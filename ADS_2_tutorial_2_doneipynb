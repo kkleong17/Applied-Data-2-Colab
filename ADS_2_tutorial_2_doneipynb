{
  "cells": [
    {
      "cell_type": "markdown",
      "metadata": {
        "id": "view-in-github",
        "colab_type": "text"
      },
      "source": [
        "<a href=\"https://colab.research.google.com/github/kkleong17/Applied-Data-2-Colab/blob/main/ADS_2_tutorial_2_doneipynb\" target=\"_parent\"><img src=\"https://colab.research.google.com/assets/colab-badge.svg\" alt=\"Open In Colab\"/></a>"
      ]
    },
    {
      "cell_type": "markdown",
      "metadata": {
        "id": "ViQdeQ5m1E2Z"
      },
      "source": [
        "# ADS2 - Tutorial 2 - PySpark Basics\n",
        "Learning Outcomes:\n",
        "*   Importing data into Spark dataframes from .csv files\n",
        "*   Exploring and manipulating data tables with Spark SQL\n",
        "*   Write data to a file\n",
        "\n",
        "**Methods and Functions:**\n",
        "\n",
        "\n",
        "```\n",
        "spark\n",
        "    .read\n",
        "    .sql\n",
        "\n",
        "dataframe\n",
        "    .show()\n",
        "    .printSchema\n",
        "```\n",
        "\n",
        "\n",
        "\n",
        "To begin, colab doesn't come with PySpark available by default, you will need to run the filling blocks of code to install it.\n"
      ]
    },
    {
      "cell_type": "code",
      "execution_count": null,
      "metadata": {
        "id": "5lb-Z7ZM8O3s"
      },
      "outputs": [],
      "source": [
        "# Apache Spark uses Java, so first we must install that\n",
        "!apt-get install openjdk-8-jdk-headless -qq > /dev/null"
      ]
    },
    {
      "cell_type": "code",
      "execution_count": null,
      "metadata": {
        "id": "ixa72o938SKP"
      },
      "outputs": [],
      "source": [
        "# Download and unpack the latest version of Spark (3.2.0 as of writing)\n",
        "!wget -q https://archive.apache.org/dist/spark/spark-3.2.0/spark-3.2.0-bin-hadoop3.2.tgz\n",
        "!tar xf spark-3.2.0-bin-hadoop3.2.tgz"
      ]
    },
    {
      "cell_type": "code",
      "execution_count": null,
      "metadata": {
        "id": "yWT7_XiQ8V6u"
      },
      "outputs": [],
      "source": [
        "# Set up environment variables\n",
        "import os\n",
        "os.environ[\"JAVA_HOME\"] = \"/usr/lib/jvm/java-8-openjdk-amd64\"\n",
        "os.environ[\"SPARK_HOME\"] = \"/content/spark-3.2.0-bin-hadoop3.2\""
      ]
    },
    {
      "cell_type": "code",
      "execution_count": null,
      "metadata": {
        "id": "UPSvq-aj8Z_k"
      },
      "outputs": [],
      "source": [
        "# Install findspark, which helps python locate the psyspark module files\n",
        "!pip install -q findspark\n",
        "import findspark\n",
        "findspark.init()"
      ]
    },
    {
      "cell_type": "code",
      "execution_count": null,
      "metadata": {
        "id": "kXT8Q_IO8cVe"
      },
      "outputs": [],
      "source": [
        "# Finally, we initialse a \"SparkSession\", which handles the computations\n",
        "from pyspark.sql import SparkSession\n",
        "spark = SparkSession.builder\\\n",
        "        .master(\"local\")\\\n",
        "        .appName(\"Colab\")\\\n",
        "        .config('spark.ui.port', '4050')\\\n",
        "        .getOrCreate()"
      ]
    },
    {
      "cell_type": "markdown",
      "metadata": {
        "id": "N61alIq17Q4i"
      },
      "source": [
        "# Exercise 1\n",
        "\n",
        "for this tutorial, you will explore a dataset of house price data from California. The .csv for this data is available on canvas, as well as from [Kaggle](https://www.kaggle.com/camnugent/california-housing-prices).\n",
        "\n",
        " * longitude\n",
        " * latitude\n",
        " * housing_median_age\n",
        " * total_rooms\n",
        " * total_bedrooms\n",
        " * population\n",
        " * households\n",
        " * median_income\n",
        " * median_house_value\n",
        " * ocean_proximity\n",
        "\n",
        "Download the data, then upload it in the files panel on the left of the colab window. You can copy the path to this file by right-clicking it after it's uploaded.\n",
        "\n",
        "Begin by loading the dataset into a Spark DataFrame. Certain options can to be set using the `.read.option(key, value)` methods. A full list of the options for .CSV files can be found here: [CSV Files](https://spark.apache.org/docs/latest/sql-data-sources-csv.html). Set the sperator option to commas, and the header option to True.\n",
        "\n",
        "Finally, you need to tell the Reader where the .csv file is.\n",
        "\n",
        "When the file is loaded, show the first 5 rows of the data and print the schema."
      ]
    },
    {
      "cell_type": "code",
      "execution_count": null,
      "metadata": {
        "id": "I7PS8iZgqwjt",
        "colab": {
          "base_uri": "https://localhost:8080/"
        },
        "outputId": "5051a78b-0884-4fe8-a547-377463fd0ead"
      },
      "outputs": [
        {
          "output_type": "stream",
          "name": "stdout",
          "text": [
            "+---------+--------+------------------+-----------+--------------+----------+----------+-------------+------------------+---------------+\n",
            "|longitude|latitude|housing_median_age|total_rooms|total_bedrooms|population|households|median_income|median_house_value|ocean_proximity|\n",
            "+---------+--------+------------------+-----------+--------------+----------+----------+-------------+------------------+---------------+\n",
            "|  -122.23|   37.88|              41.0|      880.0|         129.0|     322.0|     126.0|       8.3252|          452600.0|       NEAR BAY|\n",
            "|  -122.22|   37.86|              21.0|     7099.0|        1106.0|    2401.0|    1138.0|       8.3014|          358500.0|       NEAR BAY|\n",
            "|  -122.24|   37.85|              52.0|     1467.0|         190.0|     496.0|     177.0|       7.2574|          352100.0|       NEAR BAY|\n",
            "|  -122.25|   37.85|              52.0|     1274.0|         235.0|     558.0|     219.0|       5.6431|          341300.0|       NEAR BAY|\n",
            "|  -122.25|   37.85|              52.0|     1627.0|         280.0|     565.0|     259.0|       3.8462|          342200.0|       NEAR BAY|\n",
            "|  -122.25|   37.85|              52.0|      919.0|         213.0|     413.0|     193.0|       4.0368|          269700.0|       NEAR BAY|\n",
            "|  -122.25|   37.84|              52.0|     2535.0|         489.0|    1094.0|     514.0|       3.6591|          299200.0|       NEAR BAY|\n",
            "|  -122.25|   37.84|              52.0|     3104.0|         687.0|    1157.0|     647.0|         3.12|          241400.0|       NEAR BAY|\n",
            "|  -122.26|   37.84|              42.0|     2555.0|         665.0|    1206.0|     595.0|       2.0804|          226700.0|       NEAR BAY|\n",
            "|  -122.25|   37.84|              52.0|     3549.0|         707.0|    1551.0|     714.0|       3.6912|          261100.0|       NEAR BAY|\n",
            "|  -122.26|   37.85|              52.0|     2202.0|         434.0|     910.0|     402.0|       3.2031|          281500.0|       NEAR BAY|\n",
            "|  -122.26|   37.85|              52.0|     3503.0|         752.0|    1504.0|     734.0|       3.2705|          241800.0|       NEAR BAY|\n",
            "|  -122.26|   37.85|              52.0|     2491.0|         474.0|    1098.0|     468.0|        3.075|          213500.0|       NEAR BAY|\n",
            "|  -122.26|   37.84|              52.0|      696.0|         191.0|     345.0|     174.0|       2.6736|          191300.0|       NEAR BAY|\n",
            "|  -122.26|   37.85|              52.0|     2643.0|         626.0|    1212.0|     620.0|       1.9167|          159200.0|       NEAR BAY|\n",
            "|  -122.26|   37.85|              50.0|     1120.0|         283.0|     697.0|     264.0|        2.125|          140000.0|       NEAR BAY|\n",
            "|  -122.27|   37.85|              52.0|     1966.0|         347.0|     793.0|     331.0|        2.775|          152500.0|       NEAR BAY|\n",
            "|  -122.27|   37.85|              52.0|     1228.0|         293.0|     648.0|     303.0|       2.1202|          155500.0|       NEAR BAY|\n",
            "|  -122.26|   37.84|              50.0|     2239.0|         455.0|     990.0|     419.0|       1.9911|          158700.0|       NEAR BAY|\n",
            "|  -122.27|   37.84|              52.0|     1503.0|         298.0|     690.0|     275.0|       2.6033|          162900.0|       NEAR BAY|\n",
            "+---------+--------+------------------+-----------+--------------+----------+----------+-------------+------------------+---------------+\n",
            "only showing top 20 rows\n",
            "\n",
            "root\n",
            " |-- longitude: string (nullable = true)\n",
            " |-- latitude: string (nullable = true)\n",
            " |-- housing_median_age: string (nullable = true)\n",
            " |-- total_rooms: string (nullable = true)\n",
            " |-- total_bedrooms: string (nullable = true)\n",
            " |-- population: string (nullable = true)\n",
            " |-- households: string (nullable = true)\n",
            " |-- median_income: string (nullable = true)\n",
            " |-- median_house_value: string (nullable = true)\n",
            " |-- ocean_proximity: string (nullable = true)\n",
            "\n"
          ]
        }
      ],
      "source": [
        "### Load the California Housing Prices Dataset\n",
        "# .read, .option, .csv\n",
        "usersCsvPath = \"/content/sample_data/housing.csv\"\n",
        "\n",
        "housingdf = (spark\n",
        "            .read\n",
        "            .option('header',True)\n",
        "            .csv(usersCsvPath))\n",
        "\n",
        "\n",
        "\n",
        "### Show the first 5 rows of data and print the schema\n",
        "# .show, .printSchema\n",
        "housingdf.show()\n",
        "housingdf.printSchema()"
      ]
    },
    {
      "cell_type": "code",
      "source": [
        ""
      ],
      "metadata": {
        "colab": {
          "base_uri": "https://localhost:8080/",
          "height": 328
        },
        "id": "RO1j3lYXwUlI",
        "outputId": "78da2cc5-bf51-4cff-c7d3-56e746a0eaa6"
      },
      "execution_count": null,
      "outputs": [
        {
          "output_type": "error",
          "ename": "MessageError",
          "evalue": "ignored",
          "traceback": [
            "\u001b[0;31m---------------------------------------------------------------------------\u001b[0m",
            "\u001b[0;31mMessageError\u001b[0m                              Traceback (most recent call last)",
            "\u001b[0;32m<ipython-input-9-d5df0069828e>\u001b[0m in \u001b[0;36m<module>\u001b[0;34m()\u001b[0m\n\u001b[1;32m      1\u001b[0m \u001b[0;32mfrom\u001b[0m \u001b[0mgoogle\u001b[0m\u001b[0;34m.\u001b[0m\u001b[0mcolab\u001b[0m \u001b[0;32mimport\u001b[0m \u001b[0mdrive\u001b[0m\u001b[0;34m\u001b[0m\u001b[0;34m\u001b[0m\u001b[0m\n\u001b[0;32m----> 2\u001b[0;31m \u001b[0mdrive\u001b[0m\u001b[0;34m.\u001b[0m\u001b[0mmount\u001b[0m\u001b[0;34m(\u001b[0m\u001b[0;34m'/content/drive'\u001b[0m\u001b[0;34m)\u001b[0m\u001b[0;34m\u001b[0m\u001b[0;34m\u001b[0m\u001b[0m\n\u001b[0m",
            "\u001b[0;32m/usr/local/lib/python3.7/dist-packages/google/colab/drive.py\u001b[0m in \u001b[0;36mmount\u001b[0;34m(mountpoint, force_remount, timeout_ms, use_metadata_server)\u001b[0m\n\u001b[1;32m    111\u001b[0m       \u001b[0mtimeout_ms\u001b[0m\u001b[0;34m=\u001b[0m\u001b[0mtimeout_ms\u001b[0m\u001b[0;34m,\u001b[0m\u001b[0;34m\u001b[0m\u001b[0;34m\u001b[0m\u001b[0m\n\u001b[1;32m    112\u001b[0m       \u001b[0muse_metadata_server\u001b[0m\u001b[0;34m=\u001b[0m\u001b[0muse_metadata_server\u001b[0m\u001b[0;34m,\u001b[0m\u001b[0;34m\u001b[0m\u001b[0;34m\u001b[0m\u001b[0m\n\u001b[0;32m--> 113\u001b[0;31m       ephemeral=ephemeral)\n\u001b[0m\u001b[1;32m    114\u001b[0m \u001b[0;34m\u001b[0m\u001b[0m\n\u001b[1;32m    115\u001b[0m \u001b[0;34m\u001b[0m\u001b[0m\n",
            "\u001b[0;32m/usr/local/lib/python3.7/dist-packages/google/colab/drive.py\u001b[0m in \u001b[0;36m_mount\u001b[0;34m(mountpoint, force_remount, timeout_ms, use_metadata_server, ephemeral)\u001b[0m\n\u001b[1;32m    134\u001b[0m   \u001b[0;32mif\u001b[0m \u001b[0mephemeral\u001b[0m\u001b[0;34m:\u001b[0m\u001b[0;34m\u001b[0m\u001b[0;34m\u001b[0m\u001b[0m\n\u001b[1;32m    135\u001b[0m     _message.blocking_request(\n\u001b[0;32m--> 136\u001b[0;31m         'request_auth', request={'authType': 'dfs_ephemeral'}, timeout_sec=None)\n\u001b[0m\u001b[1;32m    137\u001b[0m \u001b[0;34m\u001b[0m\u001b[0m\n\u001b[1;32m    138\u001b[0m   \u001b[0mmountpoint\u001b[0m \u001b[0;34m=\u001b[0m \u001b[0m_os\u001b[0m\u001b[0;34m.\u001b[0m\u001b[0mpath\u001b[0m\u001b[0;34m.\u001b[0m\u001b[0mexpanduser\u001b[0m\u001b[0;34m(\u001b[0m\u001b[0mmountpoint\u001b[0m\u001b[0;34m)\u001b[0m\u001b[0;34m\u001b[0m\u001b[0;34m\u001b[0m\u001b[0m\n",
            "\u001b[0;32m/usr/local/lib/python3.7/dist-packages/google/colab/_message.py\u001b[0m in \u001b[0;36mblocking_request\u001b[0;34m(request_type, request, timeout_sec, parent)\u001b[0m\n\u001b[1;32m    173\u001b[0m   request_id = send_request(\n\u001b[1;32m    174\u001b[0m       request_type, request, parent=parent, expect_reply=True)\n\u001b[0;32m--> 175\u001b[0;31m   \u001b[0;32mreturn\u001b[0m \u001b[0mread_reply_from_input\u001b[0m\u001b[0;34m(\u001b[0m\u001b[0mrequest_id\u001b[0m\u001b[0;34m,\u001b[0m \u001b[0mtimeout_sec\u001b[0m\u001b[0;34m)\u001b[0m\u001b[0;34m\u001b[0m\u001b[0;34m\u001b[0m\u001b[0m\n\u001b[0m",
            "\u001b[0;32m/usr/local/lib/python3.7/dist-packages/google/colab/_message.py\u001b[0m in \u001b[0;36mread_reply_from_input\u001b[0;34m(message_id, timeout_sec)\u001b[0m\n\u001b[1;32m    104\u001b[0m         reply.get('colab_msg_id') == message_id):\n\u001b[1;32m    105\u001b[0m       \u001b[0;32mif\u001b[0m \u001b[0;34m'error'\u001b[0m \u001b[0;32min\u001b[0m \u001b[0mreply\u001b[0m\u001b[0;34m:\u001b[0m\u001b[0;34m\u001b[0m\u001b[0;34m\u001b[0m\u001b[0m\n\u001b[0;32m--> 106\u001b[0;31m         \u001b[0;32mraise\u001b[0m \u001b[0mMessageError\u001b[0m\u001b[0;34m(\u001b[0m\u001b[0mreply\u001b[0m\u001b[0;34m[\u001b[0m\u001b[0;34m'error'\u001b[0m\u001b[0;34m]\u001b[0m\u001b[0;34m)\u001b[0m\u001b[0;34m\u001b[0m\u001b[0;34m\u001b[0m\u001b[0m\n\u001b[0m\u001b[1;32m    107\u001b[0m       \u001b[0;32mreturn\u001b[0m \u001b[0mreply\u001b[0m\u001b[0;34m.\u001b[0m\u001b[0mget\u001b[0m\u001b[0;34m(\u001b[0m\u001b[0;34m'data'\u001b[0m\u001b[0;34m,\u001b[0m \u001b[0;32mNone\u001b[0m\u001b[0;34m)\u001b[0m\u001b[0;34m\u001b[0m\u001b[0;34m\u001b[0m\u001b[0m\n\u001b[1;32m    108\u001b[0m \u001b[0;34m\u001b[0m\u001b[0m\n",
            "\u001b[0;31mMessageError\u001b[0m: Error: credential propagation was unsuccessful"
          ]
        }
      ]
    },
    {
      "cell_type": "markdown",
      "metadata": {
        "id": "j0B-nVXBnZK-"
      },
      "source": [
        "The Schema is the database blueprint which specifies the column name, data type, whether the field is nullable, and any extra metadata. In PySpark, these are StructTypes and StructFields. You should have found that the DataFrame you loaded has only strings as the datatypes. This isn't useful for numerical data. fortunately, there are a number of ways to set the schema of a DataFrame when you load it.\n",
        "\n",
        "The first, and simplest way, is to set the `inferSchema` option to `True` in the read call. Reload the DataFrame with this option set, and preint the schema."
      ]
    },
    {
      "cell_type": "code",
      "execution_count": null,
      "metadata": {
        "id": "MQVtn8KcmQ69",
        "colab": {
          "base_uri": "https://localhost:8080/"
        },
        "outputId": "adbc3287-6004-4899-c55e-92eaf9ef8463"
      },
      "outputs": [
        {
          "output_type": "stream",
          "name": "stdout",
          "text": [
            "root\n",
            " |-- longitude: double (nullable = true)\n",
            " |-- latitude: double (nullable = true)\n",
            " |-- housing_median_age: double (nullable = true)\n",
            " |-- total_rooms: double (nullable = true)\n",
            " |-- total_bedrooms: double (nullable = true)\n",
            " |-- population: double (nullable = true)\n",
            " |-- households: double (nullable = true)\n",
            " |-- median_income: double (nullable = true)\n",
            " |-- median_house_value: double (nullable = true)\n",
            " |-- ocean_proximity: string (nullable = true)\n",
            "\n"
          ]
        }
      ],
      "source": [
        "### Load the DataFrame again, this time with the inferSchema option enabled\n",
        "housingdf = (spark\n",
        "            .read\n",
        "            .option('header',True)\n",
        "            .option('inferSchema',True)\n",
        "            .csv(usersCsvPath))\n",
        "housingdf.printSchema()"
      ]
    },
    {
      "cell_type": "markdown",
      "metadata": {
        "id": "suolICfLo7rU"
      },
      "source": [
        "For very large tables, inferring the schema can be computationally costly, as PySpark must run an additional pass over the dataset. Instead, you can set predefined schema. One way to do this is by defining a StructType, with a list individual StructFields for each column.\n",
        "\n",
        "```\n",
        "schema = StructType([StructField_1, StructField_2, ...])\n",
        "```\n",
        "\n",
        "The first StructField is provided below, complete the list for all the columns in the dataset.\n",
        "\n",
        "Reload the DataFrame, this time replacing the inferSchema `.option()` call, with `.schema(userDefinedSchema)`. Print the new schema and check that it is correct"
      ]
    },
    {
      "cell_type": "code",
      "execution_count": null,
      "metadata": {
        "id": "jXdVXii-p5lg",
        "colab": {
          "base_uri": "https://localhost:8080/"
        },
        "outputId": "f69377cc-0087-48a6-c879-52b737322277"
      },
      "outputs": [
        {
          "output_type": "stream",
          "name": "stdout",
          "text": [
            "root\n",
            " |-- longitude: double (nullable = true)\n",
            " |-- latitude: double (nullable = true)\n",
            " |-- housing_median_age: double (nullable = true)\n",
            " |-- total_rooms: double (nullable = true)\n",
            " |-- total_bedrooms: double (nullable = true)\n",
            " |-- population: double (nullable = true)\n",
            " |-- households: double (nullable = true)\n",
            " |-- median_income: double (nullable = true)\n",
            " |-- median_house_value: double (nullable = true)\n",
            " |-- ocean_proximity: string (nullable = true)\n",
            "\n"
          ]
        }
      ],
      "source": [
        "### Load the DataFrame using a schema define with StructType and StructField\n",
        "from pyspark.sql.types import DoubleType, StringType, StructType, StructField\n",
        "\n",
        "# Complete the schema\n",
        "userDefinedSchema = StructType([\n",
        "    StructField((\"longitude\"), DoubleType(), True),\n",
        "    StructField((\"latitude\"), DoubleType(), True),\n",
        "    StructField((\"housing_median_age\"), DoubleType(), True),\n",
        "    StructField((\"total_rooms\"), DoubleType(), True),\n",
        "    StructField((\"total_bedrooms\"), DoubleType(), True),\n",
        "    StructField((\"population\"), DoubleType(), True),\n",
        "    StructField((\"households\"), DoubleType(), True),\n",
        "    StructField((\"median_income\"), DoubleType(), True),\n",
        "    StructField((\"median_house_value\"), DoubleType(), True),\n",
        "    StructField((\"ocean_proximity\"), StringType(), True)])\n",
        "\n",
        "### Reload the DataFrame with the new schema, then printSchema to check it\n",
        "# .schema\n",
        "housingdf = (spark\n",
        "            .read\n",
        "            .option('header',True)\n",
        "            .schema(userDefinedSchema)\n",
        "            .csv(usersCsvPath))\n",
        "\n",
        "housingdf.printSchema()"
      ]
    },
    {
      "cell_type": "markdown",
      "metadata": {
        "id": "Hw1i5n_HvRv9"
      },
      "source": [
        "Finally, you can define the schema with a DDL (Data Definition Language) string. In this case, the string defines each column name and data type pair, and can be fed into the same `.schema()` method as before. Try this now, and print the schema."
      ]
    },
    {
      "cell_type": "code",
      "execution_count": null,
      "metadata": {
        "id": "cbFn8dcdv0QP",
        "colab": {
          "base_uri": "https://localhost:8080/"
        },
        "outputId": "6a419275-a198-4c7e-cfd1-d1461f51208b"
      },
      "outputs": [
        {
          "output_type": "stream",
          "name": "stdout",
          "text": [
            "root\n",
            " |-- longitude: double (nullable = true)\n",
            " |-- latitude: double (nullable = true)\n",
            " |-- housing_median_age: double (nullable = true)\n",
            " |-- total_rooms: double (nullable = true)\n",
            " |-- total_bedrooms: double (nullable = true)\n",
            " |-- population: double (nullable = true)\n",
            " |-- households: double (nullable = true)\n",
            " |-- median_income: double (nullable = true)\n",
            " |-- median_house_value: double (nullable = true)\n",
            " |-- ocean_proximity: string (nullable = true)\n",
            "\n"
          ]
        }
      ],
      "source": [
        "### Load the DataFrame using a DLL string formatted schema\n",
        "DDLSchema = \"longitude double, latitude double, housing_median_age double,total_rooms double,total_bedrooms double, population double, households double, median_income double, median_house_value double,ocean_proximity string \"\n",
        "\n",
        "### Reload the DataFrame with the new schema, then printSchema to check it\n",
        "housingdf = (spark\n",
        "            .read\n",
        "            .option('header',True)\n",
        "            .schema(DDLSchema)\n",
        "            .csv(usersCsvPath))\n",
        "housingdf.printSchema()"
      ]
    },
    {
      "cell_type": "markdown",
      "metadata": {
        "id": "RX9WLn8awyqA"
      },
      "source": [
        "# Exercise 2\n",
        "\n",
        "To save data stored in a DataFrame, use the `.write` method. you can save your data to a number of formats with PySpark. In addition to saving the data as a new .csv, popular formats include [Parquet files](https://parquet.apache.org/documentation/latest/) and JSON files.\n",
        "\n",
        "Save your DataFrame as a .csv, .parquet, and .JSON file. For the parquet file, set the `.option()` `'compression', 'snappy'`. For the csv file, set the `'header', 'True'`, and `'delimeter', ','`."
      ]
    },
    {
      "cell_type": "code",
      "execution_count": null,
      "metadata": {
        "id": "mr9LrWzFzRn6"
      },
      "outputs": [],
      "source": [
        "### Save the DataFrame as a .csv, .parquet and .JSON\n",
        "# .write, .option, .csv, .parquet, .json\n",
        "\n",
        "housingdf.write.option('header',True).option('delimiter',',').csv(\"/content/housingdf.csv\")\n",
        "housingdf.write.option('compression','snappy').parquet('/content/housingdf.parquet')\n",
        "housingdf.write.json('/content/housingdf.JSON')"
      ]
    },
    {
      "cell_type": "markdown",
      "metadata": {
        "id": "IPNHnwNX3b_9"
      },
      "source": [
        "An alternative way to save the DataFrame is to specify the `.format()` of the file and use the `.save()` method. Repeat the previous oiperations, but this time use the `.format('string')` method, the `.mode('overwrite')` method, and the `.save('/path/to/file') method."
      ]
    },
    {
      "cell_type": "code",
      "execution_count": null,
      "metadata": {
        "id": "fhpe1E9h4Y4W"
      },
      "outputs": [],
      "source": [
        "### Use the .save() method to save the DataFrame as a .csv, .parquet and .JSON\n",
        "# .write, .format, .option, .mode, .save\n",
        "housingdf.write.format('csv').mode('overwrite').save('/content/housingdf.csv')\n",
        "housingdf.write.format('parquet').mode('overwrite').save('/content/housingdf.parquet')\n",
        "housingdf.write.format('JSON').mode('overwrite').save('/content/housingdf.JSON')"
      ]
    },
    {
      "cell_type": "markdown",
      "metadata": {
        "id": "9zbIa7bq5bZ3"
      },
      "source": [
        "# Exercise 3\n",
        "\n",
        "DataFrames can be manipulated using the built-in SQL API. The methods can be used to select columns from the DataFrame, apply filters and masks, sort, or group data, and much more. In this exercise, you will need the following methods:\n",
        "\n",
        "\n",
        "\n",
        "```\n",
        ".select() # one or more column names\n",
        ".where() # boolean expression\n",
        ".groupBy() # column name\n",
        ".count()\n",
        ".orderBy() # column name, ascending=True/False\n",
        "```\n",
        "\n",
        "The SQL operations aren't evaluated immediately, and return a new dataframe. By appending `.show()`, you can trigger the calculation and display the new dataframe."
      ]
    },
    {
      "cell_type": "code",
      "execution_count": null,
      "metadata": {
        "id": "24N0vxtn6d7x",
        "colab": {
          "base_uri": "https://localhost:8080/"
        },
        "outputId": "fa21df3c-36e1-453d-a088-2043f2d16111"
      },
      "outputs": [
        {
          "output_type": "stream",
          "name": "stdout",
          "text": [
            "+-------------+------------------+\n",
            "|median_income|median_house_value|\n",
            "+-------------+------------------+\n",
            "|       0.4999|           73500.0|\n",
            "|       0.4999|          100000.0|\n",
            "|       0.4999|           56700.0|\n",
            "|       0.4999|          162500.0|\n",
            "|       0.4999|          112500.0|\n",
            "|       0.4999|          500001.0|\n",
            "|       0.4999|           90600.0|\n",
            "|       0.4999|          162500.0|\n",
            "|       0.4999|          500001.0|\n",
            "|       0.4999|           55000.0|\n",
            "|       0.4999|           82500.0|\n",
            "|       0.4999|           67500.0|\n",
            "|        0.536|           87500.0|\n",
            "|        0.536|          162500.0|\n",
            "|        0.536|           87500.0|\n",
            "|        0.536|          350000.0|\n",
            "|        0.536|          162500.0|\n",
            "|        0.536|          375000.0|\n",
            "|        0.536|          275000.0|\n",
            "|        0.536|          112500.0|\n",
            "+-------------+------------------+\n",
            "only showing top 20 rows\n",
            "\n"
          ]
        }
      ],
      "source": [
        "### Example: Select the median income and house value columns, sort by income\n",
        "# .select, .orderBy/.sort\n",
        "\n",
        "housingdf.select('median_income', 'median_house_value')\\\n",
        "             .orderBy('median_income').show()"
      ]
    },
    {
      "cell_type": "code",
      "execution_count": null,
      "metadata": {
        "id": "KLG7baDY8bHk",
        "colab": {
          "base_uri": "https://localhost:8080/"
        },
        "outputId": "f9fd6c85-c9c2-476d-eab3-adee7cb25313"
      },
      "outputs": [
        {
          "output_type": "stream",
          "name": "stdout",
          "text": [
            "+-------------+------------------+\n",
            "|median_income|median_house_value|\n",
            "+-------------+------------------+\n",
            "|         3.25|           94800.0|\n",
            "|        2.933|           85000.0|\n",
            "|        4.375|          161900.0|\n",
            "|       2.5234|           63500.0|\n",
            "|       2.9485|           98800.0|\n",
            "|       1.6196|           85100.0|\n",
            "|       1.4577|           49800.0|\n",
            "|       4.9489|          247100.0|\n",
            "|       2.3006|           69000.0|\n",
            "|         3.65|          204100.0|\n",
            "|        3.625|           89500.0|\n",
            "|        4.712|          158600.0|\n",
            "|       5.3478|          138800.0|\n",
            "|       3.2216|           98100.0|\n",
            "|       1.4913|           54600.0|\n",
            "|       2.5762|          173400.0|\n",
            "|       3.5417|           71300.0|\n",
            "|       6.7061|          322300.0|\n",
            "|       3.7917|           90500.0|\n",
            "|       4.7933|          186900.0|\n",
            "+-------------+------------------+\n",
            "only showing top 20 rows\n",
            "\n"
          ]
        }
      ],
      "source": [
        "### Select the median house age and house value columns and order by total\n",
        "### bedrooms in descending order\n",
        "# .select, .orderBy/.sort\n",
        "\n",
        "housingdf.select('median_income', 'median_house_value')\\\n",
        "             .orderBy('total_bedrooms').show()\n"
      ]
    },
    {
      "cell_type": "code",
      "execution_count": null,
      "metadata": {
        "id": "HL2UnexC9HFb",
        "colab": {
          "base_uri": "https://localhost:8080/"
        },
        "outputId": "19856e94-06f5-4d6c-ee0d-88c4f8d60bfc"
      },
      "outputs": [
        {
          "output_type": "stream",
          "name": "stdout",
          "text": [
            "+-------------+------------------+\n",
            "|median_income|median_house_value|\n",
            "+-------------+------------------+\n",
            "|       8.3252|          452600.0|\n",
            "|       8.3014|          358500.0|\n",
            "|       7.2574|          352100.0|\n",
            "|       5.6431|          341300.0|\n",
            "|       3.8462|          342200.0|\n",
            "|       4.0368|          269700.0|\n",
            "|       3.6591|          299200.0|\n",
            "|         3.12|          241400.0|\n",
            "|       2.0804|          226700.0|\n",
            "|       3.6912|          261100.0|\n",
            "|       3.2031|          281500.0|\n",
            "|       3.2705|          241800.0|\n",
            "|        3.075|          213500.0|\n",
            "|       2.6736|          191300.0|\n",
            "|       1.9167|          159200.0|\n",
            "|        2.125|          140000.0|\n",
            "|        2.775|          152500.0|\n",
            "|       2.1202|          155500.0|\n",
            "|       1.9911|          158700.0|\n",
            "|       2.6033|          162900.0|\n",
            "+-------------+------------------+\n",
            "only showing top 20 rows\n",
            "\n"
          ]
        }
      ],
      "source": [
        "### Select median income and house value, where ocean proximity is NEAR_BAY\n",
        "# .select, .filter/.where\n",
        "\n",
        "housingdf.select('median_income', 'median_house_value')\\\n",
        "             .filter(\"ocean_proximity ==  'NEAR BAY' \").show()\n"
      ]
    },
    {
      "cell_type": "code",
      "execution_count": null,
      "metadata": {
        "id": "V2DfwkZ89Ne-",
        "colab": {
          "base_uri": "https://localhost:8080/"
        },
        "outputId": "da68036b-54d0-40e4-9f53-d31a79d9397c"
      },
      "outputs": [
        {
          "output_type": "execute_result",
          "data": {
            "text/plain": [
              "18660"
            ]
          },
          "metadata": {},
          "execution_count": 25
        }
      ],
      "source": [
        "### Count the number of entries where population > 500\n",
        "# .filter/.where, .count\n",
        "housingdf.select('population').filter(\"population > 500\").count()"
      ]
    },
    {
      "cell_type": "code",
      "execution_count": null,
      "metadata": {
        "id": "DAMcfqMv_Cop",
        "colab": {
          "base_uri": "https://localhost:8080/"
        },
        "outputId": "60186798-e808-4f21-e647-259d7fe5378c"
      },
      "outputs": [
        {
          "output_type": "execute_result",
          "data": {
            "text/plain": [
              "DataFrame[ocean_proximity: string, count: bigint]"
            ]
          },
          "metadata": {},
          "execution_count": 30
        }
      ],
      "source": [
        "### Group by ocean proximity and count the number of entries in each category\n",
        "# .groupBy, .count\n",
        "housingdf.groupBy('ocean_proximity').count()"
      ]
    },
    {
      "cell_type": "markdown",
      "metadata": {
        "id": "rCoh7eNEXAaI"
      },
      "source": [
        "# Exercise 4\n",
        "\n",
        "The `Column` class is another way to access and manipulate the data within the DataFrame. You can use Columns to form complex expressions, such as:\n",
        "```\n",
        "col('total_bedrooms') / col('total_rooms')\n",
        "col('median_house_value').desc()\n",
        "(col('median_income')*1000).cast('int')\n",
        "```\n",
        "For the following tasks, use Column objects in the DataFrame transformations. Create a new DataFrame for each task, and show the contents."
      ]
    },
    {
      "cell_type": "code",
      "execution_count": null,
      "metadata": {
        "id": "I2xAqRybXHac",
        "colab": {
          "base_uri": "https://localhost:8080/"
        },
        "outputId": "7a816052-bb73-4d53-9935-a253962782b9"
      },
      "outputs": [
        {
          "output_type": "stream",
          "name": "stdout",
          "text": [
            "+---------+--------+------------------+-----------+--------------+----------+----------+-------------+------------------+---------------+-------------------+\n",
            "|longitude|latitude|housing_median_age|total_rooms|total_bedrooms|population|households|median_income|median_house_value|ocean_proximity|      beds_per_room|\n",
            "+---------+--------+------------------+-----------+--------------+----------+----------+-------------+------------------+---------------+-------------------+\n",
            "|   -122.0|   37.84|              16.0|     7681.0|         946.0|    2777.0|     908.0|       9.5271|          500001.0|      <1H OCEAN| 0.1231610467387059|\n",
            "|  -118.54|   34.28|              10.0|     7665.0|         999.0|    3517.0|     998.0|      10.8805|          500001.0|      <1H OCEAN|0.13033268101761253|\n",
            "|  -121.96|   37.85|              10.0|     3209.0|         379.0|    1199.0|     392.0|      12.2478|          500001.0|         INLAND|0.11810532876285447|\n",
            "|  -122.25|   37.87|              52.0|      609.0|         236.0|    1349.0|     250.0|       1.1696|          500001.0|       NEAR BAY|0.38752052545155996|\n",
            "|  -122.12|   37.94|              22.0|     4949.0|         626.0|    1850.0|     590.0|      10.4549|          500001.0|       NEAR BAY| 0.1264902000404122|\n",
            "|  -122.24|   37.85|              52.0|     3726.0|         474.0|    1366.0|     496.0|       9.3959|          500001.0|       NEAR BAY|0.12721417069243157|\n",
            "|  -122.14|    37.9|              32.0|     5738.0|         746.0|    2099.0|     732.0|      10.3224|          500001.0|       NEAR BAY| 0.1300104566050889|\n",
            "|  -122.22|   37.82|              39.0|     2492.0|         310.0|     808.0|     315.0|      11.8603|          500001.0|       NEAR BAY|0.12439807383627609|\n",
            "|  -122.08|   37.84|              17.0|     1320.0|         159.0|    1722.0|     141.0|      11.7064|          500001.0|       NEAR BAY|0.12045454545454545|\n",
            "|  -122.23|   37.82|              52.0|     3242.0|         366.0|    1001.0|     352.0|      12.2138|          500001.0|       NEAR BAY|0.11289327575570636|\n",
            "|  -122.08|   37.82|               4.0|     2045.0|         237.0|     830.0|     252.0|      11.3421|          500001.0|       NEAR BAY| 0.1158924205378973|\n",
            "|  -121.89|   37.49|               9.0|     4909.0|         577.0|    1981.0|     591.0|       9.7194|          500001.0|      <1H OCEAN|0.11753921368914239|\n",
            "|  -122.18|   37.91|              31.0|     7200.0|         876.0|    2428.0|     843.0|      10.9405|          500001.0|       NEAR BAY|0.12166666666666667|\n",
            "|  -122.03|   37.83|              24.0|     5948.0|         738.0|    1997.0|     710.0|       9.8708|          500001.0|       NEAR BAY|0.12407531943510423|\n",
            "|   -122.2|    37.9|              36.0|     2107.0|         287.0|     740.0|     280.0|      10.3416|          500001.0|       NEAR BAY| 0.1362126245847176|\n",
            "|   -122.0|   37.86|              18.0|     8953.0|        1074.0|    3011.0|     993.0|      10.7372|          500001.0|      <1H OCEAN|0.11995979001452027|\n",
            "|  -122.18|    37.9|              36.0|     4760.0|         610.0|    1511.0|     572.0|       9.0064|          500001.0|       NEAR BAY|0.12815126050420167|\n",
            "|  -122.24|   37.86|              52.0|     1668.0|         225.0|     517.0|     214.0|       7.8521|          500001.0|       NEAR BAY|0.13489208633093525|\n",
            "|  -122.23|   37.83|              52.0|     2990.0|         379.0|     947.0|     361.0|       7.8772|          500001.0|       NEAR BAY|0.12675585284280935|\n",
            "|  -122.22|   37.82|              42.0|     2991.0|         335.0|    1018.0|     335.0|       13.499|          500001.0|       NEAR BAY|0.11200267469073888|\n",
            "+---------+--------+------------------+-----------+--------------+----------+----------+-------------+------------------+---------------+-------------------+\n",
            "only showing top 20 rows\n",
            "\n"
          ]
        }
      ],
      "source": [
        "### Example: Create a DataFrame with only rows where population > 500, include\n",
        "### a column with the number of bedrooms / total number of rooms, and sort by\n",
        "### descending house value\n",
        "# col, .filter/.where, withColumn, .orderBy/.sort, desc\n",
        "from pyspark.sql.functions import col\n",
        "\n",
        "# Column expression to calculate ratio of bedrooms and rooms\n",
        "bedsperroom = col('total_bedrooms') / col('total_rooms')\n",
        "\n",
        "# Filter by population, add new column, sort DF\n",
        "bedsperroomDF = housingdf.filter(col('population') > 500)\\\n",
        "                             .withColumn('beds_per_room', bedsperroom)\\\n",
        "                             .sort(col('median_house_value').desc())\n",
        "\n",
        "bedsperroomDF.show()"
      ]
    },
    {
      "cell_type": "code",
      "execution_count": null,
      "metadata": {
        "id": "LE71Ydh-Y53d",
        "colab": {
          "base_uri": "https://localhost:8080/"
        },
        "outputId": "5de2113b-1f3d-4b72-dbff-33fb14610122"
      },
      "outputs": [
        {
          "output_type": "stream",
          "name": "stdout",
          "text": [
            "+----------+------------------+\n",
            "|population|housing_median_age|\n",
            "+----------+------------------+\n",
            "|      94.0|               2.0|\n",
            "|     762.0|              17.0|\n",
            "|     721.0|              19.0|\n",
            "|     609.0|              17.0|\n",
            "|     546.0|              10.0|\n",
            "|     125.0|              10.0|\n",
            "|     800.0|              16.0|\n",
            "|     533.0|              18.0|\n",
            "|    1481.0|              19.0|\n",
            "|    2420.0|              15.0|\n",
            "|     228.0|              10.0|\n",
            "|    3100.0|              14.0|\n",
            "|     959.0|              13.0|\n",
            "|    1243.0|              18.0|\n",
            "|    7427.0|               5.0|\n",
            "|    5781.0|              12.0|\n",
            "|    1738.0|               5.0|\n",
            "|    1479.0|              15.0|\n",
            "|     814.0|               5.0|\n",
            "|     877.0|              10.0|\n",
            "+----------+------------------+\n",
            "only showing top 20 rows\n",
            "\n"
          ]
        }
      ],
      "source": [
        "### Select the population and median house value where\n",
        "### the median house age is < 20, store the result as a new DataFrame\n",
        "# col, .select, .where\n",
        "media=(col('housing_median_age') < 20)\n",
        "\n",
        "popmed=housingdf.select('population','housing_median_age').where(media).show()"
      ]
    },
    {
      "cell_type": "code",
      "execution_count": null,
      "metadata": {
        "id": "0C1IR2g9Zz07"
      },
      "outputs": [],
      "source": [
        "### Create a new DataFrame where the ocean proximity column has been dropped.\n",
        "# col, .drop\n",
        "oc_df=col('ocean_proximity').drop"
      ]
    },
    {
      "cell_type": "code",
      "execution_count": null,
      "metadata": {
        "id": "0YoZ_pkrZ-Ai",
        "colab": {
          "base_uri": "https://localhost:8080/"
        },
        "outputId": "53a20a85-547a-4942-f2df-2f15ca728664"
      },
      "outputs": [
        {
          "output_type": "stream",
          "name": "stdout",
          "text": [
            "+---------+--------+------------------+-----------+--------------+----------+----------+-------------+------------------+----------+------------------+\n",
            "|longitude|latitude|housing_median_age|total_rooms|total_bedrooms|population|households|median_income|median_house_value|  location| pop per household|\n",
            "+---------+--------+------------------+-----------+--------------+----------+----------+-------------+------------------+----------+------------------+\n",
            "|   -121.0|   39.75|               8.0|     1116.0|         214.0|      27.0|      39.0|       2.5893|           83000.0|    INLAND|0.6923076923076923|\n",
            "|  -118.44|   34.04|              16.0|       18.0|           6.0|       3.0|       4.0|        0.536|          350000.0| <1H OCEAN|              0.75|\n",
            "|   -121.0|   37.65|              17.0|      484.0|         202.0|     198.0|     204.0|       0.6825|          187500.0|    INLAND|0.9705882352941176|\n",
            "|   -121.0|   37.71|              52.0|      102.0|          23.0|      35.0|      33.0|         2.25|          175000.0|    INLAND|1.0606060606060606|\n",
            "|  -118.31|   34.06|              36.0|      369.0|         147.0|     145.0|     136.0|       0.8804|          450000.0| <1H OCEAN|1.0661764705882353|\n",
            "|  -118.25|   34.05|               8.0|     3105.0|        1256.0|    1086.0|     997.0|       0.8131|          275000.0| <1H OCEAN|1.0892678034102308|\n",
            "|  -118.37|   33.93|              10.0|      199.0|          41.0|      61.0|      56.0|       2.8958|          245800.0| <1H OCEAN|1.0892857142857142|\n",
            "|  -119.02|   35.38|              52.0|       90.0|          35.0|      36.0|      31.0|       0.8054|           60000.0|    INLAND|1.1612903225806452|\n",
            "|  -118.08|   33.76|              26.0|      996.0|         364.0|     366.0|     313.0|       1.2813|           46700.0| <1H OCEAN|1.1693290734824282|\n",
            "|  -117.14|   32.75|              19.0|     1358.0|         613.0|     766.0|     630.0|       1.0353|          150000.0|NEAR OCEAN|1.2158730158730158|\n",
            "|   -118.5|   33.97|              52.0|      709.0|         329.0|     388.0|     313.0|       2.2643|          350000.0| <1H OCEAN|1.2396166134185302|\n",
            "|  -118.08|   33.76|              25.0|     1995.0|         637.0|     743.0|     597.0|       1.4617|           46900.0| <1H OCEAN|1.2445561139028476|\n",
            "|  -118.08|   33.76|              27.0|      529.0|         159.0|     193.0|     155.0|       2.0952|           71300.0| <1H OCEAN|1.2451612903225806|\n",
            "|  -120.92|   37.65|              23.0|      505.0|         124.0|     163.0|     129.0|       1.3696|          275000.0|    INLAND|1.2635658914728682|\n",
            "|  -119.14|   34.23|               8.0|      243.0|          75.0|     102.0|      80.0|       2.5714|          500001.0|NEAR OCEAN|             1.275|\n",
            "|  -117.74|   33.62|              16.0|     1889.0|         590.0|     686.0|     537.0|       3.4706|          241700.0| <1H OCEAN| 1.277467411545624|\n",
            "|  -122.08|   37.87|              26.0|     2405.0|         564.0|     680.0|     531.0|       2.4896|           73400.0|  NEAR BAY|  1.28060263653484|\n",
            "|  -118.08|   33.76|              26.0|     1967.0|         577.0|     692.0|     538.0|       1.6111|           54300.0| <1H OCEAN|1.2862453531598512|\n",
            "|  -118.09|   33.76|              26.0|     1625.0|         440.0|     533.0|     414.0|        1.808|           58500.0| <1H OCEAN|  1.28743961352657|\n",
            "|  -118.35|   34.07|              46.0|     1651.0|         410.0|     512.0|     397.0|       4.0179|          350000.0| <1H OCEAN|1.2896725440806045|\n",
            "+---------+--------+------------------+-----------+--------------+----------+----------+-------------+------------------+----------+------------------+\n",
            "only showing top 20 rows\n",
            "\n"
          ]
        }
      ],
      "source": [
        "### Create a DataFrame which includes a new column for population per household,\n",
        "### sort by that column, and rename 'ocean_proximity' to 'location'\n",
        "# col, .withColumn, .withColumnRenamed, .sort/.orderBy\n",
        "pophouse=col('population')/col('households')\n",
        "\n",
        "popdf=housingdf.withColumn('pop per household',pophouse).withColumnRenamed('ocean_proximity','location').sort(col('pop per household')).show()\n",
        "              \n"
      ]
    },
    {
      "cell_type": "code",
      "execution_count": null,
      "metadata": {
        "id": "G68MJq9DctuR",
        "colab": {
          "base_uri": "https://localhost:8080/"
        },
        "outputId": "ed25b094-47cc-4a96-ea31-e38ba16f6390"
      },
      "outputs": [
        {
          "output_type": "stream",
          "name": "stdout",
          "text": [
            "+---------+--------+------------------+-----------+--------------+----------+----------+-------------+------------------+---------------+\n",
            "|longitude|latitude|housing_median_age|total_rooms|total_bedrooms|population|households|median_income|median_house_value|ocean_proximity|\n",
            "+---------+--------+------------------+-----------+--------------+----------+----------+-------------+------------------+---------------+\n",
            "|  -122.23|   37.88|              41.0|      880.0|         129.0|     322.0|     126.0|       8.3252|          452600.0|       NEAR BAY|\n",
            "|  -122.22|   37.86|              21.0|     7099.0|        1106.0|    2401.0|    1138.0|       8.3014|          358500.0|       NEAR BAY|\n",
            "|  -122.24|   37.85|              52.0|     1467.0|         190.0|     496.0|     177.0|       7.2574|          352100.0|       NEAR BAY|\n",
            "|  -122.25|   37.85|              52.0|     1274.0|         235.0|     558.0|     219.0|       5.6431|          341300.0|       NEAR BAY|\n",
            "|  -122.25|   37.85|              52.0|     1627.0|         280.0|     565.0|     259.0|       3.8462|          342200.0|       NEAR BAY|\n",
            "|  -122.25|   37.85|              52.0|      919.0|         213.0|     413.0|     193.0|       4.0368|          269700.0|       NEAR BAY|\n",
            "|  -122.25|   37.84|              52.0|     2535.0|         489.0|    1094.0|     514.0|       3.6591|          299200.0|       NEAR BAY|\n",
            "|  -122.25|   37.84|              52.0|     3104.0|         687.0|    1157.0|     647.0|         3.12|          241400.0|       NEAR BAY|\n",
            "|  -122.26|   37.84|              42.0|     2555.0|         665.0|    1206.0|     595.0|       2.0804|          226700.0|       NEAR BAY|\n",
            "|  -122.25|   37.84|              52.0|     3549.0|         707.0|    1551.0|     714.0|       3.6912|          261100.0|       NEAR BAY|\n",
            "|  -122.26|   37.85|              52.0|     2202.0|         434.0|     910.0|     402.0|       3.2031|          281500.0|       NEAR BAY|\n",
            "|  -122.26|   37.85|              52.0|     3503.0|         752.0|    1504.0|     734.0|       3.2705|          241800.0|       NEAR BAY|\n",
            "|  -122.26|   37.85|              52.0|     2491.0|         474.0|    1098.0|     468.0|        3.075|          213500.0|       NEAR BAY|\n",
            "|  -122.26|   37.84|              52.0|      696.0|         191.0|     345.0|     174.0|       2.6736|          191300.0|       NEAR BAY|\n",
            "|  -122.26|   37.85|              52.0|     2643.0|         626.0|    1212.0|     620.0|       1.9167|          159200.0|       NEAR BAY|\n",
            "|  -122.26|   37.85|              50.0|     1120.0|         283.0|     697.0|     264.0|        2.125|          140000.0|       NEAR BAY|\n",
            "|  -122.27|   37.85|              52.0|     1966.0|         347.0|     793.0|     331.0|        2.775|          152500.0|       NEAR BAY|\n",
            "|  -122.27|   37.85|              52.0|     1228.0|         293.0|     648.0|     303.0|       2.1202|          155500.0|       NEAR BAY|\n",
            "|  -122.26|   37.84|              50.0|     2239.0|         455.0|     990.0|     419.0|       1.9911|          158700.0|       NEAR BAY|\n",
            "|  -122.27|   37.84|              52.0|     1503.0|         298.0|     690.0|     275.0|       2.6033|          162900.0|       NEAR BAY|\n",
            "+---------+--------+------------------+-----------+--------------+----------+----------+-------------+------------------+---------------+\n",
            "only showing top 20 rows\n",
            "\n"
          ]
        }
      ],
      "source": [
        "### Create a DataFrame with the null values in total_bedrooms removed\n",
        "# col, .isNotNull, .where/.filter\n",
        "dffs=col('total_bedrooms').isNotNull\n",
        "\n",
        "ho=housingdf.where(col('total_bedrooms').isNotNull()).show()"
      ]
    },
    {
      "cell_type": "code",
      "execution_count": null,
      "metadata": {
        "id": "Qa212n1mdAW_",
        "colab": {
          "base_uri": "https://localhost:8080/",
          "height": 312
        },
        "outputId": "1083d0f2-7ac4-4646-ac05-981c8044ba97"
      },
      "outputs": [
        {
          "output_type": "execute_result",
          "data": {
            "text/plain": [
              "Text(0.5, 1.0, 'Longitude vs Latitude')"
            ]
          },
          "metadata": {},
          "execution_count": 59
        },
        {
          "output_type": "display_data",
          "data": {
            "image/png": "[encoded data removed]",
            "text/plain": [
              "<Figure size 432x288 with 1 Axes>"
            ]
          },
          "metadata": {
            "needs_background": "light"
          }
        }
      ],
      "source": [
        "### Using the collect method to return the listed values of a column, create a\n",
        "### scatter plot in matplotlib with 'longitude' vs 'latitude', coloured by the\n",
        "### 'median_house_value'. Include appropriate axis labels, and a labelled\n",
        "### colour bar.\n",
        "# .select, .collect, .scatter, .colorbar\n",
        "import matplotlib.pyplot as plt\n",
        "\n",
        "\n",
        "\n",
        "longitude = housingdf.select(col('longitude')).collect()\n",
        "latitude = housingdf.select(col('latitude')).collect()\n",
        "house_value = housingdf.select(col('median_house_value')).collect()\n",
        "\n",
        "plt.scatter(longitude,latitude,c=house_value)\n",
        "plt.xlabel('Longitude')\n",
        "plt.ylabel('Latitude')\n",
        "plt.title('Longitude vs Latitude')"
      ]
    },
    {
      "cell_type": "code",
      "source": [
        ""
      ],
      "metadata": {
        "id": "1ZlpPit_1ybL"
      },
      "execution_count": null,
      "outputs": []
    }
  ],
  "metadata": {
    "colab": {
      "name": "ADS_2_tutorial 2_done_.pynb",
      "provenance": [],
      "collapsed_sections": [],
      "include_colab_link": true
    },
    "kernelspec": {
      "display_name": "Python 3",
      "name": "python3"
    },
    "language_info": {
      "name": "python"
    }
  },
  "nbformat": 4,
  "nbformat_minor": 0
}