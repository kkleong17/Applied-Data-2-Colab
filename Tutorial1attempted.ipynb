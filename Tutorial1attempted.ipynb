{
 "cells": [
  {
   "cell_type": "markdown",
   "metadata": {
    "id": "kI3ZM2-lK25W"
   },
   "source": [
    "# Tutorial 1 - Google Colab\n",
    "\n",
    "Google Colaboratory is a platform provided by Google, which provides a Jupyter Notebook interface and is free to use—it even provides free access to GPU resources. Hopefully you are already familiar with Jupyter Notebooks, but if not, here is a quick refresher.\n",
    "\n",
    "There are two types of cells in a notebook. The cell you are reading now is called a text cell—go ahead a double click it, and take a look at the markdown formatting. Click off the cell to display the formatted text. Google Colab has useful shortcuts for formatting text at the top of the cell when in edit mode. You can make:\n",
    "\n",
    "**bold text**\n",
    "\n",
    "*italicised text*\n",
    "\n",
    "\n",
    "\n",
    "```\n",
    "# Text formatted as code\n",
    "```\n",
    "\n",
    "[link text](https://www.google.co.uk)\n",
    "\n",
    "\n",
    "\n",
    "> Indented blocks\n",
    "\n",
    "\n",
    "1.   Lists\n",
    "\n",
    "*   Bulleted Lists\n",
    "\n",
    "And more. Try it out in the next Text cell.\n"
   ]
  },
  {
   "cell_type": "markdown",
   "metadata": {
    "id": "fKfAwdiYQixO"
   },
   "source": [
    "**Exercise 1** Write and format some text below! Double click me to edit!\n",
    "oh right its just a markdown"
   ]
  },
  {
   "cell_type": "markdown",
   "metadata": {
    "id": "hYrdRNFOQt8k"
   },
   "source": [
    "The other type of cell is called a Code cell, and in Colab these cells run python. Colab includes all the popular python modules you'll need for this module, as well as some specialist data science and machine learning tools. If the module you need isn't available, the tutorial notebooks will provide the code needed to install them.\n",
    "\n",
    "**Execise 2** To run a cell, you can either hit the play button that appears on the left when you are editted the cell, or hit ```shift+enter``` on your keyboard. Try it with the code below:"
   ]
  },
  {
   "cell_type": "code",
   "execution_count": 1,
   "metadata": {
    "id": "9AJBRMunKvzB"
   },
   "outputs": [
    {
     "data": {
      "text/plain": [
       "108.16666666666667"
      ]
     },
     "execution_count": 1,
     "metadata": {},
     "output_type": "execute_result"
    }
   ],
   "source": [
    "import numpy as np\n",
    "\n",
    "x = np.arange(0,12)\n",
    "y = np.arange(12,24)\n",
    "\n",
    "np.mean(x*y)"
   ]
  },
  {
   "cell_type": "markdown",
   "metadata": {
    "id": "V0F5JEf9TwS9"
   },
   "source": [
    "In the tutorials, there will be a mix of excercises that require you to write code from scratch or finish incomplete code. These will be marked as\n",
    "\n",
    "```\n",
    "### TODO\n",
    "# Description of task\n",
    "\n",
    "\"\"\"\n",
    "Code in double quotes is incomplete, your task is to finish it\n",
    "\"\"\"\n",
    "```\n",
    "\n",
    "**Exercise 3** Follow the instructions below and make a plot."
   ]
  },
  {
   "cell_type": "code",
   "execution_count": 2,
   "metadata": {
    "id": "4sraZsIXUXmG"
   },
   "outputs": [
    {
     "data": {
      "text/plain": [
       "<AxesSubplot:>"
      ]
     },
     "execution_count": 2,
     "metadata": {},
     "output_type": "execute_result"
    },
    {
     "data": {
      "image/png": "[encoded data removed]",
      "text/plain": [
       "<Figure size 432x288 with 1 Axes>"
      ]
     },
     "metadata": {
      "needs_background": "light"
     },
     "output_type": "display_data"
    }
   ],
   "source": [
    "# Module imports will usually be provided, but feel free to use different ones if you like\n",
    "import sklearn.datasets as datasets\n",
    "import matplotlib.pyplot as plt\n",
    "\n",
    "\n",
    "# Here's a function that takes in a 2D blob of data and plots it on a pyplot\n",
    "# axis. You should use a scatter plot, and use the labels for the colours.\n",
    "# Fill in the blanks, then remove the double quotes.\n",
    "def plot_blobs(blobs, labels, axis):\n",
    "    \n",
    "    blob: np.array with shape (n_samples, n_features)\n",
    "    labels: the integer labels for cluster membership of each sample\n",
    "    axis: a pyplot axis object\n",
    "\n",
    "    axis.scatter(FILL IN)\n",
    "    \n",
    "    make_blobs(n_samples=120,centers=3,n_features=3)\n",
    "    \n",
    "    \n",
    "    \n",
    "    \n",
    "\n",
    "\n",
    "\n",
    "### TODO\n",
    "# Create a matplotlib figure with 4 subplots in a (2,2) configuration\n",
    "\n",
    "### TODO\n",
    "# Create a for loop that does the following for each subplot:\n",
    "# Create a blob dataset with sklearn.datasets.make_blobs with 300 samples and\n",
    "# 3 centres.\n",
    "# Call the plot_blobs function for the dataset\n",
    "\n",
    "plt.subplot(2,2,1)\n",
    "\n",
    "\n",
    "\n",
    "\n",
    "\n",
    "\n"
   ]
  },
  {
   "cell_type": "markdown",
   "metadata": {
    "id": "GGBWTQmpZRSf"
   },
   "source": [
    "You'll notice that matplotlib figures are displayed under the code blocks that generate them. to save your figures, you can either ```right-click``` and hit save to save them on your machine, or use the pyplot.savefig method to save them in the notebook storage.\n",
    "\n",
    "On that subject, on the left side of the screen, you'll see a little folder icon, go ahead and click it. If you need to upload any datasets, such as those given in the tutorials, you can do so in this panel. You should also have a ```sample_data``` folder, click it to open it and you should find a few csv files.\n",
    "\n",
    "**Exercise 4** Use the function below to load in the mnist_train_small.csv dataset."
   ]
  },
  {
   "cell_type": "code",
   "execution_count": null,
   "metadata": {
    "id": "U85as6iVZFrc"
   },
   "outputs": [],
   "source": [
    "import csv\n",
    "import numpy as np\n",
    "\n",
    "def load_data(filepath, delimiter=\",\", dtype=float):\n",
    "    \"\"\"Load a numerical numpy array from a file.\"\"\"\n",
    "\n",
    "    print(f\"Loading {filepath}...\")\n",
    "    with open(filepath, \"r\") as f:\n",
    "        data_iterator = csv.reader(f, delimiter=delimiter)\n",
    "        data_list = list(data_iterator)\n",
    "    data = np.asarray(data_list, dtype=dtype)\n",
    "    print(\"Done.\")\n",
    "    return data\n",
    "\n",
    "### TODO\n",
    "# Call the above function\n",
    "data = load_data['mnist_train_small.csv']"
   ]
  },
  {
   "cell_type": "markdown",
   "metadata": {
    "id": "jqexjkkidvyr"
   },
   "source": [
    "The [MNIST Database](https://en.wikipedia.org/wiki/MNIST_database) is a widely used dataset of hand drawn images, used throughout the data science and machine learning community to test models and algorithms.\n",
    "\n",
    "The data you loaded should have the shape ```(20000, 785)```. The first value in each row is a number between 0 and 9, denoting the class of each sample. The rest of the row is a ```(28,28)``` pixel image, flattened into a ```(784)``` element vector.\n",
    "\n",
    "Separate out the the labels and images, and change the shape of the images so that they are ```(20000, 28, 28)```. Plot the first image to see if it looks right."
   ]
  },
  {
   "cell_type": "code",
   "execution_count": null,
   "metadata": {
    "id": "YIAdqzOMbzUS"
   },
   "outputs": [],
   "source": [
    "### TODO\n",
    "# Separate out the labels and images\n",
    "labels, imgs = ...\n",
    "\n",
    "### TODO\n",
    "# Reshape the images into (20000, 28, 28) format\n",
    "\n",
    "### TODO\n",
    "# Plot one of the images with it's label as a title\n"
   ]
  },
  {
   "cell_type": "markdown",
   "metadata": {
    "id": "-Bq_JsabfMh3"
   },
   "source": [
    "# Advanced Features - Completions, Magic Functions and runtimes\n",
    "\n",
    "Here you will learn some of the useful advanced functions of Colab.\n",
    "\n",
    "**Exercise 5** Completions may be something you have come across in your coding experience, and are often available in your usual editor, in Ipython, and in other Jupyter Notebook platforms. You can use completions by hitting ```<Tab>``` when you are editting some code to complete what you are typing. these work with variables you have created, and with modules, functions and methods. Try it below"
   ]
  },
  {
   "cell_type": "code",
   "execution_count": null,
   "metadata": {
    "id": "pnCuR8Z3cHvj"
   },
   "outputs": [],
   "source": [
    "### TODO\n",
    "# Type out the first few letters of one of the variables use created above, then\n",
    "# wait for a little window to open. Find the variable name and hit <Tab>.\n",
    "\n",
    "### TODO\n",
    "# You can do the same with modules, functions, classes, etc. Type np. and then\n",
    "# wait for the window, here you can scroll through all the functions in numpy.\n",
    "# The window will update as you continue typing.\n",
    "\n",
    "### TODO\n",
    "# Finally, when you type out a function and call it with (), a window will open\n",
    "# showing the documentation for that function, and the arguments it takes.\n",
    "# Try this with np.mean\n"
   ]
  },
  {
   "cell_type": "markdown",
   "metadata": {
    "id": "11OlWXeTii-2"
   },
   "source": [
    "**Exercise 6** Magics are a special class of functions that you can use in Ipython and Jupyter notebooks. Magics aren't python code, but they add an extra layer of functionality to the editor and intepreter. Invoke a magic with the ```%``` symbol. Use the ```%magic``` command below to view the full tutorial on magics."
   ]
  },
  {
   "cell_type": "code",
   "execution_count": null,
   "metadata": {
    "id": "CgeIlyurg5FH"
   },
   "outputs": [],
   "source": [
    "%magic"
   ]
  },
  {
   "cell_type": "markdown",
   "metadata": {
    "id": "mqJhdP20jUY3"
   },
   "source": [
    "A handful of useful magics when working inside a jupyter notebook are:\n",
    "\n",
    "- `%%writefile` - writes the entire cell to a file\n",
    "- `%save` - evaluates current line and writes its output to a file\n",
    "- `%history` - prints the IPython command history (including magics)\n",
    "- `%xmode` - defines how exceptions are displayed (see exercises that follow)\n",
    "- `%timeit` - times a single line (or entire cell with `%%timeit`) of code\n",
    "- `%pdb` - the Python DeBugger (when enabled, will start automatically on exceptions)\n",
    "- `%prun` - profiles a function call in a line\n",
    "\n",
    "The [full list][magics] of magics in IPython is quite long,\n",
    "although most magics are not overly useful when working within\n",
    "a jupyter notebook.\n",
    "\n",
    "[magics]: http://ipython.readthedocs.io/en/stable/interactive/magics.html\n",
    "\n",
    "Use the ```%timeit``` function to time ```np.matmul(x, y)```\n",
    "\n",
    "*NOTE x and y should still be defined from the first cell you ran in this notebook.*"
   ]
  },
  {
   "cell_type": "code",
   "execution_count": null,
   "metadata": {
    "id": "mBRUX_Rsi5BY"
   },
   "outputs": [],
   "source": [
    "### TODO\n",
    "# Time the function np.matmul using %timeit\n"
   ]
  },
  {
   "cell_type": "markdown",
   "metadata": {
    "id": "Ntals6nQm4Uw"
   },
   "source": [
    "**Exercise 7** When you start up a notebook in Colab, you will be allocated a number of compuattional resources to run your code with. This is called your ```runtime```. In the top right, you should see a small box that shows your current RAM and Disk usage. Go ahead and click on that.\n",
    "\n",
    "You'll see a panel that shows a simple display of your memory usage overtime, and what type of ```runtime``` you are using. If you haven't changed anything, it should say something like ```Python 3 Google Compute Engine backend```.\n",
    "\n",
    "Later in the course you will see how you can use GPUs to accelerate the speed of your code. Google provides free access to GPUs—with some limitations—with colab. To change your notebook over to a GPU, click ```Change runtime type``` at the bottom of the Resources tab and change ```Hardware Accelerator``` to GPU. It will take a few seconds to connect, but the tab should now say ```Python 3 Google Compute Engine backend (GPU)```.\n",
    "\n",
    "There are a few different models of GPUs that are available, and it can be a bit of a lucky dip for what you will be allocated. run the command ```nvidia-smi -L``` below to see what GPU you have been allocated.\n",
    "\n",
    "*NOTE Changing the runtime type resets the notebook, so any files you have uploaded and any variables you have generated will be deleted. If you change the runtime type mid session, you will have to rerun your code from the start in order for everything to work.*\n",
    "\n",
    "*Don't worry too much about the details of GPUs just yet, that will be covered later in the course.*"
   ]
  },
  {
   "cell_type": "code",
   "execution_count": null,
   "metadata": {
    "id": "-RLyQYsyoiSI"
   },
   "outputs": [],
   "source": [
    "!nvidia-smi -L"
   ]
  },
  {
   "cell_type": "markdown",
   "metadata": {
    "id": "1WcWWEj9lVV9"
   },
   "source": [
    "**Exercise 8** When you are done with the tutorial, you should save a copy og your notebook to your github repo for this module. to do this, hit the ```File``` tab at the top of the browser tab, then ```Save a copy in GitHub```. You will need to connect your GitHub account to your Colab account and select the repo you want to save it in.\n",
    "\n",
    "*IMPORTANT NOTE The copies you save in GitHub do not automatically save like the ones on your Drive folder. It is important that if you make any changes after saving to GitHub, that you save it again. In the language of git, this will create a ```commit``` which is ```pushed``` to the repo, and tracks any changes you make to your notebooks.*"
   ]
  }
 ],
 "metadata": {
  "colab": {
   "name": "Tutorial 1 - Google Colab.ipynb",
   "provenance": []
  },
  "kernelspec": {
   "display_name": "Python 3 (ipykernel)",
   "language": "python",
   "name": "python3"
  },
  "language_info": {
   "codemirror_mode": {
    "name": "ipython",
    "version": 3
   },
   "file_extension": ".py",
   "mimetype": "text/x-python",
   "name": "python",
   "nbconvert_exporter": "python",
   "pygments_lexer": "ipython3",
   "version": "3.8.8"
  }
 },
 "nbformat": 4,
 "nbformat_minor": 1
}
