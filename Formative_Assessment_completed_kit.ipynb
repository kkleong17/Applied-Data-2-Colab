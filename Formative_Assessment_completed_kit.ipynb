{
  "nbformat": 4,
  "nbformat_minor": 0,
  "metadata": {
    "colab": {
      "name": "ADS2_Formative_Assessment (1).ipynb",
      "provenance": [],
      "collapsed_sections": [],
      "include_colab_link": true
    },
    "kernelspec": {
      "name": "python3",
      "display_name": "Python 3"
    },
    "language_info": {
      "name": "python"
    }
  },
  "cells": [
    {
      "cell_type": "markdown",
      "metadata": {
        "id": "view-in-github",
        "colab_type": "text"
      },
      "source": [
        "<a href=\"https://colab.research.google.com/github/kkleong17/Applied-Data-2-Colab/blob/main/Formative_Assessment_completed_kit.ipynb\" target=\"_parent\"><img src=\"https://colab.research.google.com/assets/colab-badge.svg\" alt=\"Open In Colab\"/></a>"
      ]
    },
    {
      "cell_type": "markdown",
      "source": [
        "# ADS2 Formative Assessment\n",
        "\n",
        "The goal of this assessment is to demonstrate your Python and PySpark skills. There are three exercises. In the first two, you will be tested on data input/output, clustering analysis, use of functions, and visualisation. For the final exercise, you will also be tested on DataFrame loading, Spark SQL and DataFrame saving."
      ],
      "metadata": {
        "id": "vIWarN85svdM"
      }
    },
    {
      "cell_type": "markdown",
      "source": [
        "# Exercise 1 - Data Input/Output (10 marks)\n",
        "\n",
        "For this exercise, you will use the California Housing Dataset seen in the PC labs. Use the version of this dataset found in the Google Colab \"sample_data\" folder.\n",
        "\n",
        "`/content/sample_data/california_housing_train.csv`\n",
        "`/content/sample_data/california_housing_test.csv`\n",
        "\n",
        "Complete the following tasks:\n",
        "\n",
        "1.   Using your preferred method–e.g. Pandas or csv reader—load the `california_housing_train.csv` from the file.\n",
        "2.   Separate out the longitude, latitude, median_income and median_house_value columns, and discard the rest of the data.\n",
        "3.   Normalise the longitude, latitude and median_income columns—for example, you could use the [StandardScalar from SciKit-learn](https://scikit-learn.org/stable/modules/generated/sklearn.preprocessing.StandardScaler.html). Add these columns onto the rest of the data\n",
        "4.   Save a new .csv file with the data. It should have seven columns:\n",
        "    1. longitude\n",
        "    2. latitude\n",
        "    3. median_income\n",
        "    4. normalised_longitude\n",
        "    5. normalised_latitude\n",
        "    6. normalised_income\n",
        "    7. median_house_income\n",
        "\n"
      ],
      "metadata": {
        "id": "jaa65erhu3MG"
      }
    },
    {
      "cell_type": "code",
      "source": [
        "### Load the california_housing_train.csv\n",
        "import pandas as pd\n",
        "\n",
        "california_housing = '/content/sample_data/california_housing_train.csv'\n",
        "\n",
        "df = pd.read_csv(california_housing)\n",
        "df['latitude']"
      ],
      "metadata": {
        "id": "o8_1CeXchump",
        "colab": {
          "base_uri": "https://localhost:8080/"
        },
        "outputId": "672c2d7c-ea19-4ed7-8d20-41e8cd226a64"
      },
      "execution_count": 27,
      "outputs": [
        {
          "output_type": "execute_result",
          "data": {
            "text/plain": [
              "0        34.19\n",
              "1        34.40\n",
              "2        33.69\n",
              "3        33.64\n",
              "4        33.57\n",
              "         ...  \n",
              "16995    40.58\n",
              "16996    40.69\n",
              "16997    41.84\n",
              "16998    41.80\n",
              "16999    40.54\n",
              "Name: latitude, Length: 17000, dtype: float64"
            ]
          },
          "metadata": {},
          "execution_count": 27
        }
      ]
    },
    {
      "cell_type": "code",
      "source": [
        "### Discard all data except longitude, latitude, median_income and\n",
        "### median_house_value\n",
        "\n",
        "\n",
        "\n",
        "def discarding(x):\n",
        "### instead of dropping the columns one by one, i am going to use filter instead \n",
        "### to select the columns that i want.\n",
        "\n",
        "  x = x.filter(['longitude',\n",
        "                'latitude',\n",
        "                'median_income',\n",
        "                'median_house_value']\n",
        "               )\n",
        "  return x\n",
        "\n",
        "housingdf = discarding(df) #apply my function from above\n",
        "\n"
      ],
      "metadata": {
        "id": "Mjw3E_ufidBw"
      },
      "execution_count": 28,
      "outputs": []
    },
    {
      "cell_type": "code",
      "source": [
        "### Normalise the longitude, latitude and median_income data, add these\n",
        "### as new columns\n",
        "\n",
        "def normalize(x):\n",
        "  # x - mean / std\n",
        "    return (x - x.mean()) / x.std()\n",
        "\n",
        "\n",
        "def renamed(x):\n",
        "  # renaming using pd.rename for the selected columns\n",
        "\n",
        "  x = x.rename({'longitude':'norm_longitude',\n",
        "                'latitude':'norm_latitude',\n",
        "                'median_income':'norm_median_income'},\n",
        "                 axis=1,)\n",
        "  return x\n",
        "\n",
        "selected_housing_df = housingdf[['longitude',\n",
        "                                 'latitude',\n",
        "                                 'median_income']] # selecting the columns i want\n",
        "\n",
        "rename_selected = renamed(selected_housing_df)  # apply the renaming function \n",
        "norm_and_rename_df = normalize(rename_selected) # apply the normalization function\n",
        "\n",
        "\n",
        "final_house_df = pd.concat([housingdf,norm_and_rename_df] , axis=1) #finally add them together\n",
        "final_house_df\n",
        "\n"
      ],
      "metadata": {
        "id": "RfqIKRqBiqq1",
        "colab": {
          "base_uri": "https://localhost:8080/",
          "height": 423
        },
        "outputId": "997957ea-b8e3-4354-e9d2-3e9bc75490be"
      },
      "execution_count": 29,
      "outputs": [
        {
          "output_type": "execute_result",
          "data": {
            "text/html": [
              "\n",
              "  <div id=\"df-5fae9948-ff5c-44fa-94ae-9c0c3ef1b897\">\n",
              "    <div class=\"colab-df-container\">\n",
              "      <div>\n",
              "<style scoped>\n",
              "    .dataframe tbody tr th:only-of-type {\n",
              "        vertical-align: middle;\n",
              "    }\n",
              "\n",
              "    .dataframe tbody tr th {\n",
              "        vertical-align: top;\n",
              "    }\n",
              "\n",
              "    .dataframe thead th {\n",
              "        text-align: right;\n",
              "    }\n",
              "</style>\n",
              "<table border=\"1\" class=\"dataframe\">\n",
              "  <thead>\n",
              "    <tr style=\"text-align: right;\">\n",
              "      <th></th>\n",
              "      <th>longitude</th>\n",
              "      <th>latitude</th>\n",
              "      <th>median_income</th>\n",
              "      <th>median_house_value</th>\n",
              "      <th>norm_longitude</th>\n",
              "      <th>norm_latitude</th>\n",
              "      <th>norm_median_income</th>\n",
              "    </tr>\n",
              "  </thead>\n",
              "  <tbody>\n",
              "    <tr>\n",
              "      <th>0</th>\n",
              "      <td>-114.31</td>\n",
              "      <td>34.19</td>\n",
              "      <td>1.4936</td>\n",
              "      <td>66900.0</td>\n",
              "      <td>2.619288</td>\n",
              "      <td>-0.671500</td>\n",
              "      <td>-1.252506</td>\n",
              "    </tr>\n",
              "    <tr>\n",
              "      <th>1</th>\n",
              "      <td>-114.47</td>\n",
              "      <td>34.40</td>\n",
              "      <td>1.8200</td>\n",
              "      <td>80100.0</td>\n",
              "      <td>2.539494</td>\n",
              "      <td>-0.573248</td>\n",
              "      <td>-1.081451</td>\n",
              "    </tr>\n",
              "    <tr>\n",
              "      <th>2</th>\n",
              "      <td>-114.56</td>\n",
              "      <td>33.69</td>\n",
              "      <td>1.6509</td>\n",
              "      <td>85700.0</td>\n",
              "      <td>2.494610</td>\n",
              "      <td>-0.905436</td>\n",
              "      <td>-1.170071</td>\n",
              "    </tr>\n",
              "    <tr>\n",
              "      <th>3</th>\n",
              "      <td>-114.57</td>\n",
              "      <td>33.64</td>\n",
              "      <td>3.1917</td>\n",
              "      <td>73400.0</td>\n",
              "      <td>2.489623</td>\n",
              "      <td>-0.928830</td>\n",
              "      <td>-0.362590</td>\n",
              "    </tr>\n",
              "    <tr>\n",
              "      <th>4</th>\n",
              "      <td>-114.57</td>\n",
              "      <td>33.57</td>\n",
              "      <td>1.9250</td>\n",
              "      <td>65500.0</td>\n",
              "      <td>2.489623</td>\n",
              "      <td>-0.961581</td>\n",
              "      <td>-1.026424</td>\n",
              "    </tr>\n",
              "    <tr>\n",
              "      <th>...</th>\n",
              "      <td>...</td>\n",
              "      <td>...</td>\n",
              "      <td>...</td>\n",
              "      <td>...</td>\n",
              "      <td>...</td>\n",
              "      <td>...</td>\n",
              "      <td>...</td>\n",
              "    </tr>\n",
              "    <tr>\n",
              "      <th>16995</th>\n",
              "      <td>-124.26</td>\n",
              "      <td>40.58</td>\n",
              "      <td>2.3571</td>\n",
              "      <td>111400.0</td>\n",
              "      <td>-2.342894</td>\n",
              "      <td>2.318197</td>\n",
              "      <td>-0.799975</td>\n",
              "    </tr>\n",
              "    <tr>\n",
              "      <th>16996</th>\n",
              "      <td>-124.27</td>\n",
              "      <td>40.69</td>\n",
              "      <td>2.5179</td>\n",
              "      <td>79000.0</td>\n",
              "      <td>-2.347881</td>\n",
              "      <td>2.369663</td>\n",
              "      <td>-0.715705</td>\n",
              "    </tr>\n",
              "    <tr>\n",
              "      <th>16997</th>\n",
              "      <td>-124.30</td>\n",
              "      <td>41.84</td>\n",
              "      <td>3.0313</td>\n",
              "      <td>103600.0</td>\n",
              "      <td>-2.362842</td>\n",
              "      <td>2.907715</td>\n",
              "      <td>-0.446650</td>\n",
              "    </tr>\n",
              "    <tr>\n",
              "      <th>16998</th>\n",
              "      <td>-124.30</td>\n",
              "      <td>41.80</td>\n",
              "      <td>1.9797</td>\n",
              "      <td>85800.0</td>\n",
              "      <td>-2.362842</td>\n",
              "      <td>2.889000</td>\n",
              "      <td>-0.997758</td>\n",
              "    </tr>\n",
              "    <tr>\n",
              "      <th>16999</th>\n",
              "      <td>-124.35</td>\n",
              "      <td>40.54</td>\n",
              "      <td>3.0147</td>\n",
              "      <td>94600.0</td>\n",
              "      <td>-2.387778</td>\n",
              "      <td>2.299482</td>\n",
              "      <td>-0.455349</td>\n",
              "    </tr>\n",
              "  </tbody>\n",
              "</table>\n",
              "<p>17000 rows × 7 columns</p>\n",
              "</div>\n",
              "      <button class=\"colab-df-convert\" onclick=\"convertToInteractive('df-5fae9948-ff5c-44fa-94ae-9c0c3ef1b897')\"\n",
              "              title=\"Convert this dataframe to an interactive table.\"\n",
              "              style=\"display:none;\">\n",
              "        \n",
              "  <svg xmlns=\"http://www.w3.org/2000/svg\" height=\"24px\"viewBox=\"0 0 24 24\"\n",
              "       width=\"24px\">\n",
              "    <path d=\"M0 0h24v24H0V0z\" fill=\"none\"/>\n",
              "    <path d=\"M18.56 5.44l.94 2.06.94-2.06 2.06-.94-2.06-.94-.94-2.06-.94 2.06-2.06.94zm-11 1L8.5 8.5l.94-2.06 2.06-.94-2.06-.94L8.5 2.5l-.94 2.06-2.06.94zm10 10l.94 2.06.94-2.06 2.06-.94-2.06-.94-.94-2.06-.94 2.06-2.06.94z\"/><path d=\"M17.41 7.96l-1.37-1.37c-.4-.4-.92-.59-1.43-.59-.52 0-1.04.2-1.43.59L10.3 9.45l-7.72 7.72c-.78.78-.78 2.05 0 2.83L4 21.41c.39.39.9.59 1.41.59.51 0 1.02-.2 1.41-.59l7.78-7.78 2.81-2.81c.8-.78.8-2.07 0-2.86zM5.41 20L4 18.59l7.72-7.72 1.47 1.35L5.41 20z\"/>\n",
              "  </svg>\n",
              "      </button>\n",
              "      \n",
              "  <style>\n",
              "    .colab-df-container {\n",
              "      display:flex;\n",
              "      flex-wrap:wrap;\n",
              "      gap: 12px;\n",
              "    }\n",
              "\n",
              "    .colab-df-convert {\n",
              "      background-color: #E8F0FE;\n",
              "      border: none;\n",
              "      border-radius: 50%;\n",
              "      cursor: pointer;\n",
              "      display: none;\n",
              "      fill: #1967D2;\n",
              "      height: 32px;\n",
              "      padding: 0 0 0 0;\n",
              "      width: 32px;\n",
              "    }\n",
              "\n",
              "    .colab-df-convert:hover {\n",
              "      background-color: #E2EBFA;\n",
              "      box-shadow: 0px 1px 2px rgba(60, 64, 67, 0.3), 0px 1px 3px 1px rgba(60, 64, 67, 0.15);\n",
              "      fill: #174EA6;\n",
              "    }\n",
              "\n",
              "    [theme=dark] .colab-df-convert {\n",
              "      background-color: #3B4455;\n",
              "      fill: #D2E3FC;\n",
              "    }\n",
              "\n",
              "    [theme=dark] .colab-df-convert:hover {\n",
              "      background-color: #434B5C;\n",
              "      box-shadow: 0px 1px 3px 1px rgba(0, 0, 0, 0.15);\n",
              "      filter: drop-shadow(0px 1px 2px rgba(0, 0, 0, 0.3));\n",
              "      fill: #FFFFFF;\n",
              "    }\n",
              "  </style>\n",
              "\n",
              "      <script>\n",
              "        const buttonEl =\n",
              "          document.querySelector('#df-5fae9948-ff5c-44fa-94ae-9c0c3ef1b897 button.colab-df-convert');\n",
              "        buttonEl.style.display =\n",
              "          google.colab.kernel.accessAllowed ? 'block' : 'none';\n",
              "\n",
              "        async function convertToInteractive(key) {\n",
              "          const element = document.querySelector('#df-5fae9948-ff5c-44fa-94ae-9c0c3ef1b897');\n",
              "          const dataTable =\n",
              "            await google.colab.kernel.invokeFunction('convertToInteractive',\n",
              "                                                     [key], {});\n",
              "          if (!dataTable) return;\n",
              "\n",
              "          const docLinkHtml = 'Like what you see? Visit the ' +\n",
              "            '<a target=\"_blank\" href=https://colab.research.google.com/notebooks/data_table.ipynb>data table notebook</a>'\n",
              "            + ' to learn more about interactive tables.';\n",
              "          element.innerHTML = '';\n",
              "          dataTable['output_type'] = 'display_data';\n",
              "          await google.colab.output.renderOutput(dataTable, element);\n",
              "          const docLink = document.createElement('div');\n",
              "          docLink.innerHTML = docLinkHtml;\n",
              "          element.appendChild(docLink);\n",
              "        }\n",
              "      </script>\n",
              "    </div>\n",
              "  </div>\n",
              "  "
            ],
            "text/plain": [
              "       longitude  latitude  ...  norm_latitude  norm_median_income\n",
              "0        -114.31     34.19  ...      -0.671500           -1.252506\n",
              "1        -114.47     34.40  ...      -0.573248           -1.081451\n",
              "2        -114.56     33.69  ...      -0.905436           -1.170071\n",
              "3        -114.57     33.64  ...      -0.928830           -0.362590\n",
              "4        -114.57     33.57  ...      -0.961581           -1.026424\n",
              "...          ...       ...  ...            ...                 ...\n",
              "16995    -124.26     40.58  ...       2.318197           -0.799975\n",
              "16996    -124.27     40.69  ...       2.369663           -0.715705\n",
              "16997    -124.30     41.84  ...       2.907715           -0.446650\n",
              "16998    -124.30     41.80  ...       2.889000           -0.997758\n",
              "16999    -124.35     40.54  ...       2.299482           -0.455349\n",
              "\n",
              "[17000 rows x 7 columns]"
            ]
          },
          "metadata": {},
          "execution_count": 29
        }
      ]
    },
    {
      "cell_type": "code",
      "source": [
        "### Save the data to a .csv file\n",
        "\n",
        "final_house_df.to_csv('/content/exercise_1.csv')"
      ],
      "metadata": {
        "id": "DYmT9Y-ZjFEA"
      },
      "execution_count": 30,
      "outputs": []
    },
    {
      "cell_type": "markdown",
      "source": [
        "# Exercise 2 - Cluserting Analysis (10 marks)\n",
        "\n",
        "In this exercise, you will analyse the housing data and create a classification system using the K Means algorithm.\n",
        "\n",
        "Complete the following tasks:\n",
        "1.   Create a KMeans model using sklearn, with six clusters. Fit the model to the normalised longitude, latitude and median_income data.\n",
        "2.   Predict the clusters for each sample of data. Create a function that takes in all the samples for one cluster, and returns the mean, median and standard deviation of the median_house_value.\n",
        "3.   Create a function which makes a scatter plot where the x-axis is longitude, the y-axis is latitude, the marker size represents median_income, and the marker colour denotes the cluster. Call the function with the sample data and predicted clusters."
      ],
      "metadata": {
        "id": "Yfk_RACkxcHE"
      }
    },
    {
      "cell_type": "code",
      "source": [
        "### Fit a Kmeans clustering model to the normalised longitude,\n",
        "### latitude and median_income data\n",
        "from sklearn import cluster\n",
        "import seaborn as sns \n",
        "import numpy as np\n",
        "%matplotlib inline\n",
        "\n",
        "kmeans  = cluster.KMeans(n_clusters = 6)\n",
        "\n",
        "kmeans_model = kmeans.fit(norm_and_rename_df[['norm_longitude',\n",
        "                                              'norm_latitude',\n",
        "                                              'norm_median_income']]\n",
        "                          )\n",
        "\n",
        "final_house_df['clusters'] = kmeans_model.labels_\n",
        "\n",
        "final_house_df"
      ],
      "metadata": {
        "id": "S4DgL6e2jcCy",
        "colab": {
          "base_uri": "https://localhost:8080/",
          "height": 423
        },
        "outputId": "e8bc950d-a228-47bf-88cd-1e1a9f4c49a3"
      },
      "execution_count": 53,
      "outputs": [
        {
          "output_type": "execute_result",
          "data": {
            "text/html": [
              "\n",
              "  <div id=\"df-735e4b46-a3e8-41f5-8112-d129af77ddbd\">\n",
              "    <div class=\"colab-df-container\">\n",
              "      <div>\n",
              "<style scoped>\n",
              "    .dataframe tbody tr th:only-of-type {\n",
              "        vertical-align: middle;\n",
              "    }\n",
              "\n",
              "    .dataframe tbody tr th {\n",
              "        vertical-align: top;\n",
              "    }\n",
              "\n",
              "    .dataframe thead th {\n",
              "        text-align: right;\n",
              "    }\n",
              "</style>\n",
              "<table border=\"1\" class=\"dataframe\">\n",
              "  <thead>\n",
              "    <tr style=\"text-align: right;\">\n",
              "      <th></th>\n",
              "      <th>longitude</th>\n",
              "      <th>latitude</th>\n",
              "      <th>median_income</th>\n",
              "      <th>median_house_value</th>\n",
              "      <th>norm_longitude</th>\n",
              "      <th>norm_latitude</th>\n",
              "      <th>norm_median_income</th>\n",
              "      <th>clusters</th>\n",
              "    </tr>\n",
              "  </thead>\n",
              "  <tbody>\n",
              "    <tr>\n",
              "      <th>0</th>\n",
              "      <td>-114.31</td>\n",
              "      <td>34.19</td>\n",
              "      <td>1.4936</td>\n",
              "      <td>66900.0</td>\n",
              "      <td>2.619288</td>\n",
              "      <td>-0.671500</td>\n",
              "      <td>-1.252506</td>\n",
              "      <td>0</td>\n",
              "    </tr>\n",
              "    <tr>\n",
              "      <th>1</th>\n",
              "      <td>-114.47</td>\n",
              "      <td>34.40</td>\n",
              "      <td>1.8200</td>\n",
              "      <td>80100.0</td>\n",
              "      <td>2.539494</td>\n",
              "      <td>-0.573248</td>\n",
              "      <td>-1.081451</td>\n",
              "      <td>0</td>\n",
              "    </tr>\n",
              "    <tr>\n",
              "      <th>2</th>\n",
              "      <td>-114.56</td>\n",
              "      <td>33.69</td>\n",
              "      <td>1.6509</td>\n",
              "      <td>85700.0</td>\n",
              "      <td>2.494610</td>\n",
              "      <td>-0.905436</td>\n",
              "      <td>-1.170071</td>\n",
              "      <td>0</td>\n",
              "    </tr>\n",
              "    <tr>\n",
              "      <th>3</th>\n",
              "      <td>-114.57</td>\n",
              "      <td>33.64</td>\n",
              "      <td>3.1917</td>\n",
              "      <td>73400.0</td>\n",
              "      <td>2.489623</td>\n",
              "      <td>-0.928830</td>\n",
              "      <td>-0.362590</td>\n",
              "      <td>0</td>\n",
              "    </tr>\n",
              "    <tr>\n",
              "      <th>4</th>\n",
              "      <td>-114.57</td>\n",
              "      <td>33.57</td>\n",
              "      <td>1.9250</td>\n",
              "      <td>65500.0</td>\n",
              "      <td>2.489623</td>\n",
              "      <td>-0.961581</td>\n",
              "      <td>-1.026424</td>\n",
              "      <td>0</td>\n",
              "    </tr>\n",
              "    <tr>\n",
              "      <th>...</th>\n",
              "      <td>...</td>\n",
              "      <td>...</td>\n",
              "      <td>...</td>\n",
              "      <td>...</td>\n",
              "      <td>...</td>\n",
              "      <td>...</td>\n",
              "      <td>...</td>\n",
              "      <td>...</td>\n",
              "    </tr>\n",
              "    <tr>\n",
              "      <th>16995</th>\n",
              "      <td>-124.26</td>\n",
              "      <td>40.58</td>\n",
              "      <td>2.3571</td>\n",
              "      <td>111400.0</td>\n",
              "      <td>-2.342894</td>\n",
              "      <td>2.318197</td>\n",
              "      <td>-0.799975</td>\n",
              "      <td>1</td>\n",
              "    </tr>\n",
              "    <tr>\n",
              "      <th>16996</th>\n",
              "      <td>-124.27</td>\n",
              "      <td>40.69</td>\n",
              "      <td>2.5179</td>\n",
              "      <td>79000.0</td>\n",
              "      <td>-2.347881</td>\n",
              "      <td>2.369663</td>\n",
              "      <td>-0.715705</td>\n",
              "      <td>1</td>\n",
              "    </tr>\n",
              "    <tr>\n",
              "      <th>16997</th>\n",
              "      <td>-124.30</td>\n",
              "      <td>41.84</td>\n",
              "      <td>3.0313</td>\n",
              "      <td>103600.0</td>\n",
              "      <td>-2.362842</td>\n",
              "      <td>2.907715</td>\n",
              "      <td>-0.446650</td>\n",
              "      <td>1</td>\n",
              "    </tr>\n",
              "    <tr>\n",
              "      <th>16998</th>\n",
              "      <td>-124.30</td>\n",
              "      <td>41.80</td>\n",
              "      <td>1.9797</td>\n",
              "      <td>85800.0</td>\n",
              "      <td>-2.362842</td>\n",
              "      <td>2.889000</td>\n",
              "      <td>-0.997758</td>\n",
              "      <td>1</td>\n",
              "    </tr>\n",
              "    <tr>\n",
              "      <th>16999</th>\n",
              "      <td>-124.35</td>\n",
              "      <td>40.54</td>\n",
              "      <td>3.0147</td>\n",
              "      <td>94600.0</td>\n",
              "      <td>-2.387778</td>\n",
              "      <td>2.299482</td>\n",
              "      <td>-0.455349</td>\n",
              "      <td>1</td>\n",
              "    </tr>\n",
              "  </tbody>\n",
              "</table>\n",
              "<p>17000 rows × 8 columns</p>\n",
              "</div>\n",
              "      <button class=\"colab-df-convert\" onclick=\"convertToInteractive('df-735e4b46-a3e8-41f5-8112-d129af77ddbd')\"\n",
              "              title=\"Convert this dataframe to an interactive table.\"\n",
              "              style=\"display:none;\">\n",
              "        \n",
              "  <svg xmlns=\"http://www.w3.org/2000/svg\" height=\"24px\"viewBox=\"0 0 24 24\"\n",
              "       width=\"24px\">\n",
              "    <path d=\"M0 0h24v24H0V0z\" fill=\"none\"/>\n",
              "    <path d=\"M18.56 5.44l.94 2.06.94-2.06 2.06-.94-2.06-.94-.94-2.06-.94 2.06-2.06.94zm-11 1L8.5 8.5l.94-2.06 2.06-.94-2.06-.94L8.5 2.5l-.94 2.06-2.06.94zm10 10l.94 2.06.94-2.06 2.06-.94-2.06-.94-.94-2.06-.94 2.06-2.06.94z\"/><path d=\"M17.41 7.96l-1.37-1.37c-.4-.4-.92-.59-1.43-.59-.52 0-1.04.2-1.43.59L10.3 9.45l-7.72 7.72c-.78.78-.78 2.05 0 2.83L4 21.41c.39.39.9.59 1.41.59.51 0 1.02-.2 1.41-.59l7.78-7.78 2.81-2.81c.8-.78.8-2.07 0-2.86zM5.41 20L4 18.59l7.72-7.72 1.47 1.35L5.41 20z\"/>\n",
              "  </svg>\n",
              "      </button>\n",
              "      \n",
              "  <style>\n",
              "    .colab-df-container {\n",
              "      display:flex;\n",
              "      flex-wrap:wrap;\n",
              "      gap: 12px;\n",
              "    }\n",
              "\n",
              "    .colab-df-convert {\n",
              "      background-color: #E8F0FE;\n",
              "      border: none;\n",
              "      border-radius: 50%;\n",
              "      cursor: pointer;\n",
              "      display: none;\n",
              "      fill: #1967D2;\n",
              "      height: 32px;\n",
              "      padding: 0 0 0 0;\n",
              "      width: 32px;\n",
              "    }\n",
              "\n",
              "    .colab-df-convert:hover {\n",
              "      background-color: #E2EBFA;\n",
              "      box-shadow: 0px 1px 2px rgba(60, 64, 67, 0.3), 0px 1px 3px 1px rgba(60, 64, 67, 0.15);\n",
              "      fill: #174EA6;\n",
              "    }\n",
              "\n",
              "    [theme=dark] .colab-df-convert {\n",
              "      background-color: #3B4455;\n",
              "      fill: #D2E3FC;\n",
              "    }\n",
              "\n",
              "    [theme=dark] .colab-df-convert:hover {\n",
              "      background-color: #434B5C;\n",
              "      box-shadow: 0px 1px 3px 1px rgba(0, 0, 0, 0.15);\n",
              "      filter: drop-shadow(0px 1px 2px rgba(0, 0, 0, 0.3));\n",
              "      fill: #FFFFFF;\n",
              "    }\n",
              "  </style>\n",
              "\n",
              "      <script>\n",
              "        const buttonEl =\n",
              "          document.querySelector('#df-735e4b46-a3e8-41f5-8112-d129af77ddbd button.colab-df-convert');\n",
              "        buttonEl.style.display =\n",
              "          google.colab.kernel.accessAllowed ? 'block' : 'none';\n",
              "\n",
              "        async function convertToInteractive(key) {\n",
              "          const element = document.querySelector('#df-735e4b46-a3e8-41f5-8112-d129af77ddbd');\n",
              "          const dataTable =\n",
              "            await google.colab.kernel.invokeFunction('convertToInteractive',\n",
              "                                                     [key], {});\n",
              "          if (!dataTable) return;\n",
              "\n",
              "          const docLinkHtml = 'Like what you see? Visit the ' +\n",
              "            '<a target=\"_blank\" href=https://colab.research.google.com/notebooks/data_table.ipynb>data table notebook</a>'\n",
              "            + ' to learn more about interactive tables.';\n",
              "          element.innerHTML = '';\n",
              "          dataTable['output_type'] = 'display_data';\n",
              "          await google.colab.output.renderOutput(dataTable, element);\n",
              "          const docLink = document.createElement('div');\n",
              "          docLink.innerHTML = docLinkHtml;\n",
              "          element.appendChild(docLink);\n",
              "        }\n",
              "      </script>\n",
              "    </div>\n",
              "  </div>\n",
              "  "
            ],
            "text/plain": [
              "       longitude  latitude  ...  norm_median_income  clusters\n",
              "0        -114.31     34.19  ...           -1.252506         0\n",
              "1        -114.47     34.40  ...           -1.081451         0\n",
              "2        -114.56     33.69  ...           -1.170071         0\n",
              "3        -114.57     33.64  ...           -0.362590         0\n",
              "4        -114.57     33.57  ...           -1.026424         0\n",
              "...          ...       ...  ...                 ...       ...\n",
              "16995    -124.26     40.58  ...           -0.799975         1\n",
              "16996    -124.27     40.69  ...           -0.715705         1\n",
              "16997    -124.30     41.84  ...           -0.446650         1\n",
              "16998    -124.30     41.80  ...           -0.997758         1\n",
              "16999    -124.35     40.54  ...           -0.455349         1\n",
              "\n",
              "[17000 rows x 8 columns]"
            ]
          },
          "metadata": {},
          "execution_count": 53
        }
      ]
    },
    {
      "cell_type": "code",
      "source": [
        "### Create a function that calculates the mean, median and standard deviation\n",
        "### of median_house_value for one cluster of data samples. Call it for each\n",
        "### cluster and display the results\n",
        "\n",
        "def calculation(x,n):\n",
        "  \n",
        " \"\"\" first line i extract clusters and put it equal to category of cluster\n",
        " then second line is extracting the column for median house value and the last 3\n",
        " functions are for calculating the median,standard deviation and mean and finally\n",
        " printing them \"\"\"\n",
        "\n",
        " \n",
        " x = x.loc[x['clusters'] == n]\n",
        " s = x[['median_house_value']]\n",
        " tmean = s.mean()\n",
        " tstd = s.std()\n",
        " tmedian = s.median()\n",
        "\n",
        " print(f\"cluster {n} mean of : {tmean} , standard deviation of : {tstd} , median of : {tmedian}\")\n",
        "\n",
        "for p in range(6):\n",
        "  print(calculation(final_house_df,p)) # for loop for different labels range 6"
      ],
      "metadata": {
        "id": "f13w81p_jyga",
        "colab": {
          "base_uri": "https://localhost:8080/"
        },
        "outputId": "2a6ea76d-44b4-4488-8295-93652084a442"
      },
      "execution_count": 32,
      "outputs": [
        {
          "output_type": "stream",
          "name": "stdout",
          "text": [
            "cluster 0 mean of : median_house_value    270259.307167\n",
            "dtype: float64 , standard deviation of : median_house_value    102041.244672\n",
            "dtype: float64 , median of : median_house_value    244200.0\n",
            "dtype: float64\n",
            "None\n",
            "cluster 1 mean of : median_house_value    288309.571685\n",
            "dtype: float64 , standard deviation of : median_house_value    104984.013838\n",
            "dtype: float64 , median of : median_house_value    271450.0\n",
            "dtype: float64\n",
            "None\n",
            "cluster 2 mean of : median_house_value    157191.112182\n",
            "dtype: float64 , standard deviation of : median_house_value    87331.594361\n",
            "dtype: float64 , median of : median_house_value    134500.0\n",
            "dtype: float64\n",
            "None\n",
            "cluster 3 mean of : median_house_value    104124.928144\n",
            "dtype: float64 , standard deviation of : median_house_value    69166.233275\n",
            "dtype: float64 , median of : median_house_value    80600.0\n",
            "dtype: float64\n",
            "None\n",
            "cluster 4 mean of : median_house_value    172384.363721\n",
            "dtype: float64 , standard deviation of : median_house_value    81896.745631\n",
            "dtype: float64 , median of : median_house_value    158200.0\n",
            "dtype: float64\n",
            "None\n",
            "cluster 5 mean of : median_house_value    462646.825911\n",
            "dtype: float64 , standard deviation of : median_house_value    70733.380358\n",
            "dtype: float64 , median of : median_house_value    500001.0\n",
            "dtype: float64\n",
            "None\n"
          ]
        }
      ]
    },
    {
      "cell_type": "code",
      "source": [
        "### Create a function that plots the longitude and latitude of each data sample\n",
        "### Use the median_income for the marker size and cluster label for the colour\n",
        "import matplotlib.pyplot as plt\n",
        "\n",
        "\n",
        "def plotting(df):\n",
        "  \"\"\" plot scatter with my marker size 's' as the median income and my marker color 'c'\n",
        "  as the clusters labels from my first question exercise 2  \"\"\"\n",
        "\n",
        "  \n",
        "  plt.scatter(df['longitude'],df['latitude'],s = df['median_income'],c=df['clusters'])\n",
        "\n",
        "  plt.title(\"California median income\") #set labels\n",
        "  plt.xlabel(\"Longitude\")\n",
        "  plt.ylabel(\"Latitude\")\n",
        "\n",
        "plotting(final_house_df) \n",
        "\n",
        "\n",
        "\n",
        "\n",
        "\n"
      ],
      "metadata": {
        "id": "P4nViECbk5Ga",
        "colab": {
          "base_uri": "https://localhost:8080/",
          "height": 295
        },
        "outputId": "d52a58ef-6382-493c-a6b9-0e063c9e86d0"
      },
      "execution_count": 63,
      "outputs": [
        {
          "output_type": "display_data",
          "data": {
            "image/png": "[encoded data removed]",
            "text/plain": [
              "<Figure size 432x288 with 1 Axes>"
            ]
          },
          "metadata": {
            "needs_background": "light"
          }
        }
      ]
    },
    {
      "cell_type": "markdown",
      "source": [
        "# Exercise 3 - PySpark Skills Test\n",
        "\n",
        "In this exercise, you will use PySpark to process some data. Run the code to install PySpark, then complete these exercises:\n",
        "\n",
        "1.   Load the `titanic3.csv` file into a DataFrame with an inferred schema. Show the first 20 lines,  and print the schema.\n",
        "2.   Convert the `'Age'` column to `interger` type.\n",
        "3.   Drop any rows that have null values.\n",
        "4.   The buying power of £100 in 1912 is equivalent to £12,170.45 in 2022. Create a new column that shows the fare prices in today's money, and add it to the DataFrame.\n",
        "5.   Save the new DataFrame to a .csv."
      ],
      "metadata": {
        "id": "wj8-HZ_V8dhn"
      }
    },
    {
      "cell_type": "code",
      "execution_count": 34,
      "metadata": {
        "id": "5lb-Z7ZM8O3s"
      },
      "outputs": [],
      "source": [
        "# Apache Spark uses Java, so first we must install that\n",
        "!apt-get install openjdk-8-jdk-headless -qq > /dev/null"
      ]
    },
    {
      "cell_type": "code",
      "execution_count": 35,
      "metadata": {
        "id": "ixa72o938SKP"
      },
      "outputs": [],
      "source": [
        "# Download and unpack the latest version of Spark (3.2.0 as of writing)\n",
        "!wget -q https://archive.apache.org/dist/spark/spark-3.2.0/spark-3.2.0-bin-hadoop3.2.tgz\n",
        "!tar xf spark-3.2.0-bin-hadoop3.2.tgz"
      ]
    },
    {
      "cell_type": "code",
      "execution_count": 36,
      "metadata": {
        "id": "yWT7_XiQ8V6u"
      },
      "outputs": [],
      "source": [
        "# Set up environment variables\n",
        "import os\n",
        "os.environ[\"JAVA_HOME\"] = \"/usr/lib/jvm/java-8-openjdk-amd64\"\n",
        "os.environ[\"SPARK_HOME\"] = \"/content/spark-3.2.0-bin-hadoop3.2\""
      ]
    },
    {
      "cell_type": "code",
      "execution_count": 37,
      "metadata": {
        "id": "UPSvq-aj8Z_k"
      },
      "outputs": [],
      "source": [
        "# Install findspark, which helps python locate the psyspark module files\n",
        "!pip install -q findspark\n",
        "import findspark\n",
        "findspark.init()"
      ]
    },
    {
      "cell_type": "code",
      "execution_count": 38,
      "metadata": {
        "id": "kXT8Q_IO8cVe"
      },
      "outputs": [],
      "source": [
        "# Finally, we initialse a \"SparkSession\", which handles the computations\n",
        "from pyspark.sql import SparkSession\n",
        "spark = SparkSession.builder\\\n",
        "        .master(\"local\")\\\n",
        "        .appName(\"Colab\")\\\n",
        "        .config('spark.ui.port', '4050')\\\n",
        "        .getOrCreate()"
      ]
    },
    {
      "cell_type": "code",
      "source": [
        "### Load the titanic3.csv file as a DataFrame. Display the data and schema\n",
        "\n",
        "csvpath = '/content/titanic3.csv' # my path file\n",
        "\n",
        "#using .read .option for reading header and predicting column type with inferschema\n",
        "titanic_df = (spark\n",
        "            .read\n",
        "            .option('header',True)\n",
        "            .option('inferSchema',True)\n",
        "            .csv(csvpath)\n",
        "            )\n",
        "\n",
        "titanic_df.show()\n",
        "titanic_df.printSchema()"
      ],
      "metadata": {
        "id": "oRYWuJvWlaZs",
        "colab": {
          "base_uri": "https://localhost:8080/"
        },
        "outputId": "72317c58-ba85-46c8-9ac8-77664c60a16c"
      },
      "execution_count": 39,
      "outputs": [
        {
          "output_type": "stream",
          "name": "stdout",
          "text": [
            "+--------+------+--------------------+------+---+-----------------------+-----------------------+-------+\n",
            "|Survived|Pclass|                Name|   Sex|Age|Siblings/Spouses Aboard|Parents/Children Aboard|   Fare|\n",
            "+--------+------+--------------------+------+---+-----------------------+-----------------------+-------+\n",
            "|       0|     3|Mr. Owen Harris B...|  male| 22|                      1|                      0|   7.25|\n",
            "|       1|     1|Mrs. John Bradley...|female| 38|                      1|                      0|71.2833|\n",
            "|       1|     3|Miss. Laina Heikk...|female|  ?|                      0|                      0|  7.925|\n",
            "|       1|     1|Mrs. Jacques Heat...|female| 35|                      1|                      0|   53.1|\n",
            "|       0|     3|Mr. William Henry...|  male| 35|                      0|                      0|   8.05|\n",
            "|       0|     3|     Mr. James Moran|  male| 27|                      0|                      0| 8.4583|\n",
            "|       0|     1|Mr. Timothy J McC...|  male| 54|                      0|                      0|51.8625|\n",
            "|       0|     3|Master. Gosta Leo...|  male|  2|                      3|                      1| 21.075|\n",
            "|       1|     3|Mrs. Oscar W (Eli...|female| 27|                      0|                      2|11.1333|\n",
            "|       1|     2|Mrs. Nicholas (Ad...|female| 14|                      1|                      0|30.0708|\n",
            "|       1|     3|Miss. Marguerite ...|female|  4|                      1|                      1|   16.7|\n",
            "|       1|     1|Miss. Elizabeth B...|female| 58|                      0|                      0|  26.55|\n",
            "|       0|     3|Mr. William Henry...|  male| 20|                      0|                      0|   8.05|\n",
            "|       0|     3|Mr. Anders Johan ...|  male| 39|                      1|                      5| 31.275|\n",
            "|       0|     3|Miss. Hulda Amand...|female| 14|                      0|                      0| 7.8542|\n",
            "|       1|     2|Mrs. (Mary D King...|female| 55|                   null|                   null|   16.0|\n",
            "|       0|     3| Master. Eugene Rice|  male|  2|                      4|                      1| 29.125|\n",
            "|       1|     2|Mr. Charles Eugen...|  male| 23|                      0|                      0|   13.0|\n",
            "|       0|     3|Mrs. Julius (Emel...|female| 31|                      1|                      0|   18.0|\n",
            "|       1|     3|Mrs. Fatima Masse...|female| 22|                      0|                      0|  7.225|\n",
            "+--------+------+--------------------+------+---+-----------------------+-----------------------+-------+\n",
            "only showing top 20 rows\n",
            "\n",
            "root\n",
            " |-- Survived: integer (nullable = true)\n",
            " |-- Pclass: integer (nullable = true)\n",
            " |-- Name: string (nullable = true)\n",
            " |-- Sex: string (nullable = true)\n",
            " |-- Age: string (nullable = true)\n",
            " |-- Siblings/Spouses Aboard: integer (nullable = true)\n",
            " |-- Parents/Children Aboard: integer (nullable = true)\n",
            " |-- Fare: double (nullable = true)\n",
            "\n"
          ]
        }
      ]
    },
    {
      "cell_type": "code",
      "source": [
        "### Convert the Age column to interger type\n",
        "from pyspark.sql.functions import col\n",
        "\n",
        "titanic_df.select(col(\"Age\").cast('int'))\n",
        "\n",
        "titanic_df.printSchema()"
      ],
      "metadata": {
        "id": "voNv8eR3lsQh",
        "colab": {
          "base_uri": "https://localhost:8080/"
        },
        "outputId": "6fe8b447-fe36-44c9-f015-f310bab7be66"
      },
      "execution_count": 40,
      "outputs": [
        {
          "output_type": "stream",
          "name": "stdout",
          "text": [
            "root\n",
            " |-- Survived: integer (nullable = true)\n",
            " |-- Pclass: integer (nullable = true)\n",
            " |-- Name: string (nullable = true)\n",
            " |-- Sex: string (nullable = true)\n",
            " |-- Age: string (nullable = true)\n",
            " |-- Siblings/Spouses Aboard: integer (nullable = true)\n",
            " |-- Parents/Children Aboard: integer (nullable = true)\n",
            " |-- Fare: double (nullable = true)\n",
            "\n"
          ]
        }
      ]
    },
    {
      "cell_type": "code",
      "source": [
        "### Discard any rows with null values\n",
        "\n",
        "\n",
        "titanic_df.na.drop().show()"
      ],
      "metadata": {
        "id": "T7v5qhu8l4II",
        "colab": {
          "base_uri": "https://localhost:8080/"
        },
        "outputId": "ce524ad4-a0cc-43da-feeb-b38cd290f2c5"
      },
      "execution_count": 41,
      "outputs": [
        {
          "output_type": "stream",
          "name": "stdout",
          "text": [
            "+--------+------+--------------------+------+---+-----------------------+-----------------------+-------+\n",
            "|Survived|Pclass|                Name|   Sex|Age|Siblings/Spouses Aboard|Parents/Children Aboard|   Fare|\n",
            "+--------+------+--------------------+------+---+-----------------------+-----------------------+-------+\n",
            "|       0|     3|Mr. Owen Harris B...|  male| 22|                      1|                      0|   7.25|\n",
            "|       1|     1|Mrs. John Bradley...|female| 38|                      1|                      0|71.2833|\n",
            "|       1|     3|Miss. Laina Heikk...|female|  ?|                      0|                      0|  7.925|\n",
            "|       1|     1|Mrs. Jacques Heat...|female| 35|                      1|                      0|   53.1|\n",
            "|       0|     3|Mr. William Henry...|  male| 35|                      0|                      0|   8.05|\n",
            "|       0|     3|     Mr. James Moran|  male| 27|                      0|                      0| 8.4583|\n",
            "|       0|     1|Mr. Timothy J McC...|  male| 54|                      0|                      0|51.8625|\n",
            "|       0|     3|Master. Gosta Leo...|  male|  2|                      3|                      1| 21.075|\n",
            "|       1|     3|Mrs. Oscar W (Eli...|female| 27|                      0|                      2|11.1333|\n",
            "|       1|     2|Mrs. Nicholas (Ad...|female| 14|                      1|                      0|30.0708|\n",
            "|       1|     3|Miss. Marguerite ...|female|  4|                      1|                      1|   16.7|\n",
            "|       1|     1|Miss. Elizabeth B...|female| 58|                      0|                      0|  26.55|\n",
            "|       0|     3|Mr. William Henry...|  male| 20|                      0|                      0|   8.05|\n",
            "|       0|     3|Mr. Anders Johan ...|  male| 39|                      1|                      5| 31.275|\n",
            "|       0|     3|Miss. Hulda Amand...|female| 14|                      0|                      0| 7.8542|\n",
            "|       0|     3| Master. Eugene Rice|  male|  2|                      4|                      1| 29.125|\n",
            "|       1|     2|Mr. Charles Eugen...|  male| 23|                      0|                      0|   13.0|\n",
            "|       0|     3|Mrs. Julius (Emel...|female| 31|                      1|                      0|   18.0|\n",
            "|       1|     3|Mrs. Fatima Masse...|female| 22|                      0|                      0|  7.225|\n",
            "|       0|     2| Mr. Joseph J Fynney|  male| 35|                      0|                      0|   26.0|\n",
            "+--------+------+--------------------+------+---+-----------------------+-----------------------+-------+\n",
            "only showing top 20 rows\n",
            "\n"
          ]
        }
      ]
    },
    {
      "cell_type": "code",
      "source": [
        "### Create a column with the fare prices in \"today's money\"\n",
        "\n",
        "#using withColumn function with a column name set and then calculate the fare\n",
        "#based on the instruction given \n",
        "titanic_df.withColumn(\"today's_money\", titanic_df.Fare*12170.45/100).show()\n"
      ],
      "metadata": {
        "id": "izQVnrWsmJ0L",
        "colab": {
          "base_uri": "https://localhost:8080/"
        },
        "outputId": "5860c9a6-4605-40cb-fb7b-7766080d05f5"
      },
      "execution_count": 42,
      "outputs": [
        {
          "output_type": "stream",
          "name": "stdout",
          "text": [
            "+--------+------+--------------------+------+---+-----------------------+-----------------------+-------+------------------+\n",
            "|Survived|Pclass|                Name|   Sex|Age|Siblings/Spouses Aboard|Parents/Children Aboard|   Fare|     today's_money|\n",
            "+--------+------+--------------------+------+---+-----------------------+-----------------------+-------+------------------+\n",
            "|       0|     3|Mr. Owen Harris B...|  male| 22|                      1|                      0|   7.25| 882.3576250000001|\n",
            "|       1|     1|Mrs. John Bradley...|female| 38|                      1|                      0|71.2833| 8675.498384850001|\n",
            "|       1|     3|Miss. Laina Heikk...|female|  ?|                      0|                      0|  7.925|       964.5081625|\n",
            "|       1|     1|Mrs. Jacques Heat...|female| 35|                      1|                      0|   53.1|        6462.50895|\n",
            "|       0|     3|Mr. William Henry...|  male| 35|                      0|                      0|   8.05| 979.7212250000001|\n",
            "|       0|     3|     Mr. James Moran|  male| 27|                      0|                      0| 8.4583|     1029.41317235|\n",
            "|       0|     1|Mr. Timothy J McC...|  male| 54|                      0|                      0|51.8625|     6311.89963125|\n",
            "|       0|     3|Master. Gosta Leo...|  male|  2|                      3|                      1| 21.075|      2564.9223375|\n",
            "|       1|     3|Mrs. Oscar W (Eli...|female| 27|                      0|                      2|11.1333|     1354.97270985|\n",
            "|       1|     2|Mrs. Nicholas (Ad...|female| 14|                      1|                      0|30.0708|3659.7516785999997|\n",
            "|       1|     3|Miss. Marguerite ...|female|  4|                      1|                      1|   16.7|2032.4651500000002|\n",
            "|       1|     1|Miss. Elizabeth B...|female| 58|                      0|                      0|  26.55|       3231.254475|\n",
            "|       0|     3|Mr. William Henry...|  male| 20|                      0|                      0|   8.05| 979.7212250000001|\n",
            "|       0|     3|Mr. Anders Johan ...|  male| 39|                      1|                      5| 31.275|      3806.3082375|\n",
            "|       0|     3|Miss. Hulda Amand...|female| 14|                      0|                      0| 7.8542|       955.8914839|\n",
            "|       1|     2|Mrs. (Mary D King...|female| 55|                   null|                   null|   16.0|1947.2720000000002|\n",
            "|       0|     3| Master. Eugene Rice|  male|  2|                      4|                      1| 29.125|      3544.6435625|\n",
            "|       1|     2|Mr. Charles Eugen...|  male| 23|                      0|                      0|   13.0|         1582.1585|\n",
            "|       0|     3|Mrs. Julius (Emel...|female| 31|                      1|                      0|   18.0|          2190.681|\n",
            "|       1|     3|Mrs. Fatima Masse...|female| 22|                      0|                      0|  7.225|       879.3150125|\n",
            "+--------+------+--------------------+------+---+-----------------------+-----------------------+-------+------------------+\n",
            "only showing top 20 rows\n",
            "\n"
          ]
        }
      ]
    },
    {
      "cell_type": "code",
      "source": [
        "### Save the DataFrame as a .csv\n",
        "\n",
        "#saving it with write.option way instead of pandas \n",
        "titanic_df.write.option('header',True).option('delimiter',',').csv(\"/content/titanic_df.csv\")\n"
      ],
      "metadata": {
        "id": "NAJuNuaYmQmt",
        "colab": {
          "base_uri": "https://localhost:8080/",
          "height": 346
        },
        "outputId": "191abfe9-438c-4848-bfb2-07208997fb98"
      },
      "execution_count": 54,
      "outputs": [
        {
          "output_type": "error",
          "ename": "AnalysisException",
          "evalue": "ignored",
          "traceback": [
            "\u001b[0;31m---------------------------------------------------------------------------\u001b[0m",
            "\u001b[0;31mAnalysisException\u001b[0m                         Traceback (most recent call last)",
            "\u001b[0;32m<ipython-input-54-0f5f96505eeb>\u001b[0m in \u001b[0;36m<module>\u001b[0;34m()\u001b[0m\n\u001b[1;32m      2\u001b[0m \u001b[0;34m\u001b[0m\u001b[0m\n\u001b[1;32m      3\u001b[0m \u001b[0;31m#saving it with write.option way instead of pandas\u001b[0m\u001b[0;34m\u001b[0m\u001b[0;34m\u001b[0m\u001b[0;34m\u001b[0m\u001b[0m\n\u001b[0;32m----> 4\u001b[0;31m \u001b[0mtitanic_df\u001b[0m\u001b[0;34m.\u001b[0m\u001b[0mwrite\u001b[0m\u001b[0;34m.\u001b[0m\u001b[0moption\u001b[0m\u001b[0;34m(\u001b[0m\u001b[0;34m'header'\u001b[0m\u001b[0;34m,\u001b[0m\u001b[0;32mTrue\u001b[0m\u001b[0;34m)\u001b[0m\u001b[0;34m.\u001b[0m \u001b[0moption\u001b[0m\u001b[0;34m(\u001b[0m\u001b[0;34m'delimiter'\u001b[0m\u001b[0;34m,\u001b[0m\u001b[0;34m','\u001b[0m\u001b[0;34m)\u001b[0m\u001b[0;34m.\u001b[0m\u001b[0mcsv\u001b[0m\u001b[0;34m(\u001b[0m\u001b[0;34m\"/content/titanic_df.csv\"\u001b[0m\u001b[0;34m)\u001b[0m\u001b[0;34m\u001b[0m\u001b[0;34m\u001b[0m\u001b[0m\n\u001b[0m",
            "\u001b[0;32m/content/spark-3.2.0-bin-hadoop3.2/python/pyspark/sql/readwriter.py\u001b[0m in \u001b[0;36mcsv\u001b[0;34m(self, path, mode, compression, sep, quote, escape, header, nullValue, escapeQuotes, quoteAll, dateFormat, timestampFormat, ignoreLeadingWhiteSpace, ignoreTrailingWhiteSpace, charToEscapeQuoteEscaping, encoding, emptyValue, lineSep)\u001b[0m\n\u001b[1;32m    953\u001b[0m                        \u001b[0mcharToEscapeQuoteEscaping\u001b[0m\u001b[0;34m=\u001b[0m\u001b[0mcharToEscapeQuoteEscaping\u001b[0m\u001b[0;34m,\u001b[0m\u001b[0;34m\u001b[0m\u001b[0;34m\u001b[0m\u001b[0m\n\u001b[1;32m    954\u001b[0m                        encoding=encoding, emptyValue=emptyValue, lineSep=lineSep)\n\u001b[0;32m--> 955\u001b[0;31m         \u001b[0mself\u001b[0m\u001b[0;34m.\u001b[0m\u001b[0m_jwrite\u001b[0m\u001b[0;34m.\u001b[0m\u001b[0mcsv\u001b[0m\u001b[0;34m(\u001b[0m\u001b[0mpath\u001b[0m\u001b[0;34m)\u001b[0m\u001b[0;34m\u001b[0m\u001b[0;34m\u001b[0m\u001b[0m\n\u001b[0m\u001b[1;32m    956\u001b[0m \u001b[0;34m\u001b[0m\u001b[0m\n\u001b[1;32m    957\u001b[0m     \u001b[0;32mdef\u001b[0m \u001b[0morc\u001b[0m\u001b[0;34m(\u001b[0m\u001b[0mself\u001b[0m\u001b[0;34m,\u001b[0m \u001b[0mpath\u001b[0m\u001b[0;34m,\u001b[0m \u001b[0mmode\u001b[0m\u001b[0;34m=\u001b[0m\u001b[0;32mNone\u001b[0m\u001b[0;34m,\u001b[0m \u001b[0mpartitionBy\u001b[0m\u001b[0;34m=\u001b[0m\u001b[0;32mNone\u001b[0m\u001b[0;34m,\u001b[0m \u001b[0mcompression\u001b[0m\u001b[0;34m=\u001b[0m\u001b[0;32mNone\u001b[0m\u001b[0;34m)\u001b[0m\u001b[0;34m:\u001b[0m\u001b[0;34m\u001b[0m\u001b[0;34m\u001b[0m\u001b[0m\n",
            "\u001b[0;32m/content/spark-3.2.0-bin-hadoop3.2/python/lib/py4j-0.10.9.2-src.zip/py4j/java_gateway.py\u001b[0m in \u001b[0;36m__call__\u001b[0;34m(self, *args)\u001b[0m\n\u001b[1;32m   1308\u001b[0m         \u001b[0manswer\u001b[0m \u001b[0;34m=\u001b[0m \u001b[0mself\u001b[0m\u001b[0;34m.\u001b[0m\u001b[0mgateway_client\u001b[0m\u001b[0;34m.\u001b[0m\u001b[0msend_command\u001b[0m\u001b[0;34m(\u001b[0m\u001b[0mcommand\u001b[0m\u001b[0;34m)\u001b[0m\u001b[0;34m\u001b[0m\u001b[0;34m\u001b[0m\u001b[0m\n\u001b[1;32m   1309\u001b[0m         return_value = get_return_value(\n\u001b[0;32m-> 1310\u001b[0;31m             answer, self.gateway_client, self.target_id, self.name)\n\u001b[0m\u001b[1;32m   1311\u001b[0m \u001b[0;34m\u001b[0m\u001b[0m\n\u001b[1;32m   1312\u001b[0m         \u001b[0;32mfor\u001b[0m \u001b[0mtemp_arg\u001b[0m \u001b[0;32min\u001b[0m \u001b[0mtemp_args\u001b[0m\u001b[0;34m:\u001b[0m\u001b[0;34m\u001b[0m\u001b[0;34m\u001b[0m\u001b[0m\n",
            "\u001b[0;32m/content/spark-3.2.0-bin-hadoop3.2/python/pyspark/sql/utils.py\u001b[0m in \u001b[0;36mdeco\u001b[0;34m(*a, **kw)\u001b[0m\n\u001b[1;32m    115\u001b[0m                 \u001b[0;31m# Hide where the exception came from that shows a non-Pythonic\u001b[0m\u001b[0;34m\u001b[0m\u001b[0;34m\u001b[0m\u001b[0;34m\u001b[0m\u001b[0m\n\u001b[1;32m    116\u001b[0m                 \u001b[0;31m# JVM exception message.\u001b[0m\u001b[0;34m\u001b[0m\u001b[0;34m\u001b[0m\u001b[0;34m\u001b[0m\u001b[0m\n\u001b[0;32m--> 117\u001b[0;31m                 \u001b[0;32mraise\u001b[0m \u001b[0mconverted\u001b[0m \u001b[0;32mfrom\u001b[0m \u001b[0;32mNone\u001b[0m\u001b[0;34m\u001b[0m\u001b[0;34m\u001b[0m\u001b[0m\n\u001b[0m\u001b[1;32m    118\u001b[0m             \u001b[0;32melse\u001b[0m\u001b[0;34m:\u001b[0m\u001b[0;34m\u001b[0m\u001b[0;34m\u001b[0m\u001b[0m\n\u001b[1;32m    119\u001b[0m                 \u001b[0;32mraise\u001b[0m\u001b[0;34m\u001b[0m\u001b[0;34m\u001b[0m\u001b[0m\n",
            "\u001b[0;31mAnalysisException\u001b[0m: path file:/content/titanic_df.csv already exists."
          ]
        }
      ]
    },
    {
      "cell_type": "code",
      "source": [
        ""
      ],
      "metadata": {
        "id": "PrUwNK9IBhrB"
      },
      "execution_count": null,
      "outputs": []
    }
  ]
}